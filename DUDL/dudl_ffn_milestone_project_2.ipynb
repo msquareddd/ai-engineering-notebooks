{
  "nbformat": 4,
  "nbformat_minor": 0,
  "metadata": {
    "colab": {
      "provenance": [],
      "include_colab_link": true
    },
    "kernelspec": {
      "name": "python3",
      "display_name": "Python 3"
    },
    "language_info": {
      "name": "python"
    }
  },
  "cells": [
    {
      "cell_type": "markdown",
      "metadata": {
        "id": "view-in-github",
        "colab_type": "text"
      },
      "source": [
        "<a href=\"https://colab.research.google.com/github/msquareddd/ai-engineering-notebooks/blob/main/DUDL/dudl_ffn_milestone_project_2.ipynb\" target=\"_parent\"><img src=\"https://colab.research.google.com/assets/colab-badge.svg\" alt=\"Open In Colab\"/></a>"
      ]
    },
    {
      "cell_type": "markdown",
      "metadata": {
        "id": "bhWV8oes-wKR"
      },
      "source": [
        "# COURSE: A deep understanding of deep learning\n"
      ]
    },
    {
      "cell_type": "code",
      "source": [
        "!pip -q install ucimlrepo"
      ],
      "metadata": {
        "id": "slvOUseNhWXl"
      },
      "execution_count": 184,
      "outputs": []
    },
    {
      "cell_type": "code",
      "metadata": {
        "id": "7U3TmybM4yMw"
      },
      "source": [
        "### import libraries\n",
        "\n",
        "# for DL modeling\n",
        "import torch\n",
        "import torch.nn as nn\n",
        "import torch.nn.functional as F\n",
        "from torch.utils.data import DataLoader,TensorDataset\n",
        "from sklearn.model_selection import train_test_split\n",
        "\n",
        "# for number-crunching\n",
        "import numpy as np\n",
        "import scipy.stats as stats\n",
        "\n",
        "# for dataset management\n",
        "import pandas as pd\n",
        "\n",
        "# for timing computations\n",
        "import time\n",
        "\n",
        "# for data visualization\n",
        "import matplotlib.pyplot as plt\n",
        "import matplotlib_inline.backend_inline\n",
        "matplotlib_inline.backend_inline.set_matplotlib_formats('svg')"
      ],
      "execution_count": 185,
      "outputs": []
    },
    {
      "cell_type": "markdown",
      "metadata": {
        "id": "2anVFzBXGdwH"
      },
      "source": [
        "# Import and process the data"
      ]
    },
    {
      "cell_type": "code",
      "metadata": {
        "id": "0ohXIxzt4_U2"
      },
      "source": [
        "from ucimlrepo import fetch_ucirepo\n",
        "\n",
        "# fetch dataset\n",
        "heart_disease = fetch_ucirepo(id=45)\n",
        "\n",
        "# data (as pandas dataframes)\n",
        "X = heart_disease.data.features\n",
        "y = heart_disease.data.targets"
      ],
      "execution_count": 186,
      "outputs": []
    },
    {
      "cell_type": "code",
      "source": [
        "# X.head()"
      ],
      "metadata": {
        "id": "BUHUWbAYh3aF"
      },
      "execution_count": 187,
      "outputs": []
    },
    {
      "cell_type": "code",
      "source": [
        "y = y.ne(0).astype(int)"
      ],
      "metadata": {
        "id": "mtcyP_vIiZhl"
      },
      "execution_count": 188,
      "outputs": []
    },
    {
      "cell_type": "code",
      "source": [
        "X = X.fillna(0)"
      ],
      "metadata": {
        "id": "OEj1mkiQl-pT"
      },
      "execution_count": 189,
      "outputs": []
    },
    {
      "cell_type": "code",
      "source": [
        "# X.info()"
      ],
      "metadata": {
        "id": "ITy2JR6emFIr"
      },
      "execution_count": 190,
      "outputs": []
    },
    {
      "cell_type": "code",
      "source": [
        "X = X.apply(stats.zscore)"
      ],
      "metadata": {
        "id": "371gCuOZn4Z7"
      },
      "execution_count": 191,
      "outputs": []
    },
    {
      "cell_type": "code",
      "source": [
        "# X.head()"
      ],
      "metadata": {
        "id": "l4UJWwdMlLGm"
      },
      "execution_count": 192,
      "outputs": []
    },
    {
      "cell_type": "markdown",
      "metadata": {
        "id": "vGQd7xmM5Gns"
      },
      "source": [
        "# Re-organize the data: train/test in DataLoaders"
      ]
    },
    {
      "cell_type": "code",
      "metadata": {
        "id": "2kZ6YPe8Gav5"
      },
      "source": [
        "# convert from pandas dataframe to tensor\n",
        "dataT  = torch.tensor( X.values ).float()\n",
        "labels = torch.tensor( y.values ).float()\n",
        "# labels = labels[:,None] # transform to matrix"
      ],
      "execution_count": 193,
      "outputs": []
    },
    {
      "cell_type": "code",
      "source": [
        "dataT.size()"
      ],
      "metadata": {
        "colab": {
          "base_uri": "https://localhost:8080/"
        },
        "id": "vK2um_1Eqiau",
        "outputId": "07993bf7-1978-4b6c-f95f-9865c828dda2"
      },
      "execution_count": 194,
      "outputs": [
        {
          "output_type": "execute_result",
          "data": {
            "text/plain": [
              "torch.Size([303, 13])"
            ]
          },
          "metadata": {},
          "execution_count": 194
        }
      ]
    },
    {
      "cell_type": "code",
      "source": [
        "labels.size()"
      ],
      "metadata": {
        "colab": {
          "base_uri": "https://localhost:8080/"
        },
        "id": "UCJoG4QAqkpe",
        "outputId": "0fc06e4e-00b7-45da-d043-e255dde44119"
      },
      "execution_count": 195,
      "outputs": [
        {
          "output_type": "execute_result",
          "data": {
            "text/plain": [
              "torch.Size([303, 1])"
            ]
          },
          "metadata": {},
          "execution_count": 195
        }
      ]
    },
    {
      "cell_type": "code",
      "metadata": {
        "id": "bbf064xxGa_x"
      },
      "source": [
        "# use scikitlearn to split the data\n",
        "train_data,test_data, train_labels,test_labels = train_test_split(dataT, labels, test_size=.1)\n",
        "\n",
        "# then convert them into PyTorch Datasets (note: already converted to tensors)\n",
        "train_dataDataset = TensorDataset(train_data,train_labels)\n",
        "test_dataDataset  = TensorDataset(test_data,test_labels)\n",
        "\n",
        "batchsize  = 32\n",
        "train_loader = DataLoader(train_dataDataset,batch_size=batchsize,shuffle=True,drop_last=True)\n",
        "test_loader  = DataLoader(test_dataDataset,batch_size=test_dataDataset.tensors[0].shape[0])"
      ],
      "execution_count": 196,
      "outputs": []
    },
    {
      "cell_type": "markdown",
      "metadata": {
        "id": "I7g0mivk5GqP"
      },
      "source": [
        "# Now for the DL part"
      ]
    },
    {
      "cell_type": "code",
      "source": [
        "NUM_EPOCHS = 500\n",
        "LR = 0.01\n",
        "N_HIDDEN_1 = 128\n",
        "N_HIDDEN_2 = 64\n",
        "N_HIDDEN_3 = 32"
      ],
      "metadata": {
        "id": "oaPhHdCKrczO"
      },
      "execution_count": 197,
      "outputs": []
    },
    {
      "cell_type": "code",
      "metadata": {
        "id": "N0vAnQi9DNRa"
      },
      "source": [
        "# create a class for the model\n",
        "\n",
        "class ANNhearth(nn.Module):\n",
        "  def __init__(self):\n",
        "    super().__init__()\n",
        "\n",
        "    ### input layer\n",
        "    self.input = nn.Linear(13,N_HIDDEN_1)\n",
        "\n",
        "    ### hidden layers\n",
        "    self.fc1 = nn.Linear(N_HIDDEN_1,N_HIDDEN_2)\n",
        "    self.fc2 = nn.Linear(N_HIDDEN_2,N_HIDDEN_3)\n",
        "    self.fc3 = nn.Linear(N_HIDDEN_3,N_HIDDEN_3)\n",
        "\n",
        "    ### output layer\n",
        "    self.output = nn.Linear(N_HIDDEN_3,1)\n",
        "\n",
        "  # forward pass\n",
        "  def forward(self,x):\n",
        "    x = F.relu( self.input(x) )\n",
        "    x = F.relu( self.fc1(x) ) # fully connected\n",
        "    x = F.relu( self.fc2(x) )\n",
        "    x = F.relu( self.fc3(x) )\n",
        "    return self.output(x)"
      ],
      "execution_count": 198,
      "outputs": []
    },
    {
      "cell_type": "markdown",
      "metadata": {
        "id": "IuCixgNfDMZS"
      },
      "source": [
        "# Train the model"
      ]
    },
    {
      "cell_type": "code",
      "metadata": {
        "id": "0XRPe56rGp2k"
      },
      "source": [
        "# a function that trains the model\n",
        "\n",
        "# global parameter\n",
        "numepochs = NUM_EPOCHS\n",
        "\n",
        "def trainTheModel():\n",
        "\n",
        "  net = ANNhearth()\n",
        "\n",
        "  # loss function and optimizer\n",
        "  lossfun = nn.BCEWithLogitsLoss()\n",
        "  optimizer = torch.optim.SGD(net.parameters(),lr=LR)\n",
        "\n",
        "  # initialize losses\n",
        "  losses   = torch.zeros(numepochs)\n",
        "  trainAcc = []\n",
        "  testAcc  = []\n",
        "\n",
        "  # loop over epochs\n",
        "  for epochi in range(numepochs):\n",
        "\n",
        "    # switch on training mode\n",
        "    net.train()\n",
        "\n",
        "    # loop over training data batches\n",
        "    batchAcc  = []\n",
        "    batchLoss = []\n",
        "    for X,y in train_loader:\n",
        "\n",
        "      # forward pass and loss\n",
        "      yHat = net(X)\n",
        "      loss = lossfun(yHat,y)\n",
        "\n",
        "      # backprop\n",
        "      optimizer.zero_grad()\n",
        "      loss.backward()\n",
        "      optimizer.step()\n",
        "\n",
        "      # loss from this batch\n",
        "      batchLoss.append(loss.item())\n",
        "\n",
        "      # compute training accuracy for this batch\n",
        "      batchAcc.append( 100*torch.mean(((yHat>0) == y).float()).item() )\n",
        "    # end of batch loop...\n",
        "\n",
        "    # now that we've trained through the batches, get their average training accuracy\n",
        "    trainAcc.append( np.mean(batchAcc) )\n",
        "\n",
        "    # and get average losses across the batches\n",
        "    losses[epochi] = np.mean(batchLoss)\n",
        "\n",
        "    # test accuracy\n",
        "    net.eval()\n",
        "    X,y = next(iter(test_loader)) # extract X,y from test dataloader\n",
        "    with torch.no_grad(): # deactivates autograd\n",
        "      yHat = net(X)\n",
        "    testAcc.append( 100*torch.mean(((yHat>0) == y).float()).item() )\n",
        "\n",
        "  # function output\n",
        "  return trainAcc,testAcc,losses,net"
      ],
      "execution_count": 199,
      "outputs": []
    },
    {
      "cell_type": "markdown",
      "metadata": {
        "id": "T_JKCpfe_CfC"
      },
      "source": [
        "# Now for the experiment"
      ]
    },
    {
      "cell_type": "code",
      "metadata": {
        "id": "oL7EqhYjGp51"
      },
      "source": [
        "trainAcc,testAcc,losses,net = trainTheModel()"
      ],
      "execution_count": 200,
      "outputs": []
    },
    {
      "cell_type": "code",
      "source": [
        "fig,ax = plt.subplots(1,2,figsize=(16,5))\n",
        "\n",
        "ax[0].plot(losses)\n",
        "ax[0].set_xlabel('Epochs')\n",
        "ax[0].set_ylabel('Loss')\n",
        "# ax[0].set_ylim([0,3])\n",
        "ax[0].set_title('Model loss')\n",
        "\n",
        "ax[1].plot(trainAcc,label='Train')\n",
        "ax[1].plot(testAcc,label='Test')\n",
        "ax[1].set_xlabel('Epochs')\n",
        "ax[1].set_ylabel('Accuracy (%)')\n",
        "ax[1].set_ylim([10,100])\n",
        "ax[1].set_title(f'Final model test accuracy: {testAcc[-1]:.2f}%')\n",
        "ax[1].legend()\n",
        "\n",
        "plt.show()"
      ],
      "metadata": {
        "colab": {
          "base_uri": "https://localhost:8080/",
          "height": 471
        },
        "id": "VzK3nMmpqaxR",
        "outputId": "30b03685-ff31-4080-e19a-f0247b5cc79e"
      },
      "execution_count": 201,
      "outputs": [
        {
          "output_type": "display_data",
          "data": {
            "text/plain": [
              "<Figure size 1600x500 with 2 Axes>"
            ],
            "image/svg+xml": "<?xml version=\"1.0\" encoding=\"utf-8\" standalone=\"no\"?>\n<!DOCTYPE svg PUBLIC \"-//W3C//DTD SVG 1.1//EN\"\n  \"http://www.w3.org/Graphics/SVG/1.1/DTD/svg11.dtd\">\n<svg xmlns:xlink=\"http://www.w3.org/1999/xlink\" width=\"943.78125pt\" height=\"337.074375pt\" viewBox=\"0 0 943.78125 337.074375\" xmlns=\"http://www.w3.org/2000/svg\" version=\"1.1\">\n <metadata>\n  <rdf:RDF xmlns:dc=\"http://purl.org/dc/elements/1.1/\" xmlns:cc=\"http://creativecommons.org/ns#\" xmlns:rdf=\"http://www.w3.org/1999/02/22-rdf-syntax-ns#\">\n   <cc:Work>\n    <dc:type rdf:resource=\"http://purl.org/dc/dcmitype/StillImage\"/>\n    <dc:date>2025-10-01T07:39:42.005558</dc:date>\n    <dc:format>image/svg+xml</dc:format>\n    <dc:creator>\n     <cc:Agent>\n      <dc:title>Matplotlib v3.10.0, https://matplotlib.org/</dc:title>\n     </cc:Agent>\n    </dc:creator>\n   </cc:Work>\n  </rdf:RDF>\n </metadata>\n <defs>\n  <style type=\"text/css\">*{stroke-linejoin: round; stroke-linecap: butt}</style>\n </defs>\n <g id=\"figure_1\">\n  <g id=\"patch_1\">\n   <path d=\"M 0 337.074375 \nL 943.78125 337.074375 \nL 943.78125 0 \nL 0 0 \nz\n\" style=\"fill: #ffffff\"/>\n  </g>\n  <g id=\"axes_1\">\n   <g id=\"patch_2\">\n    <path d=\"M 43.78125 299.518125 \nL 449.599432 299.518125 \nL 449.599432 22.318125 \nL 43.78125 22.318125 \nz\n\" style=\"fill: #ffffff\"/>\n   </g>\n   <g id=\"matplotlib.axis_1\">\n    <g id=\"xtick_1\">\n     <g id=\"line2d_1\">\n      <defs>\n       <path id=\"md530c7aae2\" d=\"M 0 0 \nL 0 3.5 \n\" style=\"stroke: #000000; stroke-width: 0.8\"/>\n      </defs>\n      <g>\n       <use xlink:href=\"#md530c7aae2\" x=\"62.227531\" y=\"299.518125\" style=\"stroke: #000000; stroke-width: 0.8\"/>\n      </g>\n     </g>\n     <g id=\"text_1\">\n      <!-- 0 -->\n      <g transform=\"translate(59.046281 314.116563) scale(0.1 -0.1)\">\n       <defs>\n        <path id=\"DejaVuSans-30\" d=\"M 2034 4250 \nQ 1547 4250 1301 3770 \nQ 1056 3291 1056 2328 \nQ 1056 1369 1301 889 \nQ 1547 409 2034 409 \nQ 2525 409 2770 889 \nQ 3016 1369 3016 2328 \nQ 3016 3291 2770 3770 \nQ 2525 4250 2034 4250 \nz\nM 2034 4750 \nQ 2819 4750 3233 4129 \nQ 3647 3509 3647 2328 \nQ 3647 1150 3233 529 \nQ 2819 -91 2034 -91 \nQ 1250 -91 836 529 \nQ 422 1150 422 2328 \nQ 422 3509 836 4129 \nQ 1250 4750 2034 4750 \nz\n\" transform=\"scale(0.015625)\"/>\n       </defs>\n       <use xlink:href=\"#DejaVuSans-30\"/>\n      </g>\n     </g>\n    </g>\n    <g id=\"xtick_2\">\n     <g id=\"line2d_2\">\n      <g>\n       <use xlink:href=\"#md530c7aae2\" x=\"136.160521\" y=\"299.518125\" style=\"stroke: #000000; stroke-width: 0.8\"/>\n      </g>\n     </g>\n     <g id=\"text_2\">\n      <!-- 100 -->\n      <g transform=\"translate(126.616771 314.116563) scale(0.1 -0.1)\">\n       <defs>\n        <path id=\"DejaVuSans-31\" d=\"M 794 531 \nL 1825 531 \nL 1825 4091 \nL 703 3866 \nL 703 4441 \nL 1819 4666 \nL 2450 4666 \nL 2450 531 \nL 3481 531 \nL 3481 0 \nL 794 0 \nL 794 531 \nz\n\" transform=\"scale(0.015625)\"/>\n       </defs>\n       <use xlink:href=\"#DejaVuSans-31\"/>\n       <use xlink:href=\"#DejaVuSans-30\" transform=\"translate(63.623047 0)\"/>\n       <use xlink:href=\"#DejaVuSans-30\" transform=\"translate(127.246094 0)\"/>\n      </g>\n     </g>\n    </g>\n    <g id=\"xtick_3\">\n     <g id=\"line2d_3\">\n      <g>\n       <use xlink:href=\"#md530c7aae2\" x=\"210.093511\" y=\"299.518125\" style=\"stroke: #000000; stroke-width: 0.8\"/>\n      </g>\n     </g>\n     <g id=\"text_3\">\n      <!-- 200 -->\n      <g transform=\"translate(200.549761 314.116563) scale(0.1 -0.1)\">\n       <defs>\n        <path id=\"DejaVuSans-32\" d=\"M 1228 531 \nL 3431 531 \nL 3431 0 \nL 469 0 \nL 469 531 \nQ 828 903 1448 1529 \nQ 2069 2156 2228 2338 \nQ 2531 2678 2651 2914 \nQ 2772 3150 2772 3378 \nQ 2772 3750 2511 3984 \nQ 2250 4219 1831 4219 \nQ 1534 4219 1204 4116 \nQ 875 4013 500 3803 \nL 500 4441 \nQ 881 4594 1212 4672 \nQ 1544 4750 1819 4750 \nQ 2544 4750 2975 4387 \nQ 3406 4025 3406 3419 \nQ 3406 3131 3298 2873 \nQ 3191 2616 2906 2266 \nQ 2828 2175 2409 1742 \nQ 1991 1309 1228 531 \nz\n\" transform=\"scale(0.015625)\"/>\n       </defs>\n       <use xlink:href=\"#DejaVuSans-32\"/>\n       <use xlink:href=\"#DejaVuSans-30\" transform=\"translate(63.623047 0)\"/>\n       <use xlink:href=\"#DejaVuSans-30\" transform=\"translate(127.246094 0)\"/>\n      </g>\n     </g>\n    </g>\n    <g id=\"xtick_4\">\n     <g id=\"line2d_4\">\n      <g>\n       <use xlink:href=\"#md530c7aae2\" x=\"284.026501\" y=\"299.518125\" style=\"stroke: #000000; stroke-width: 0.8\"/>\n      </g>\n     </g>\n     <g id=\"text_4\">\n      <!-- 300 -->\n      <g transform=\"translate(274.482751 314.116563) scale(0.1 -0.1)\">\n       <defs>\n        <path id=\"DejaVuSans-33\" d=\"M 2597 2516 \nQ 3050 2419 3304 2112 \nQ 3559 1806 3559 1356 \nQ 3559 666 3084 287 \nQ 2609 -91 1734 -91 \nQ 1441 -91 1130 -33 \nQ 819 25 488 141 \nL 488 750 \nQ 750 597 1062 519 \nQ 1375 441 1716 441 \nQ 2309 441 2620 675 \nQ 2931 909 2931 1356 \nQ 2931 1769 2642 2001 \nQ 2353 2234 1838 2234 \nL 1294 2234 \nL 1294 2753 \nL 1863 2753 \nQ 2328 2753 2575 2939 \nQ 2822 3125 2822 3475 \nQ 2822 3834 2567 4026 \nQ 2313 4219 1838 4219 \nQ 1578 4219 1281 4162 \nQ 984 4106 628 3988 \nL 628 4550 \nQ 988 4650 1302 4700 \nQ 1616 4750 1894 4750 \nQ 2613 4750 3031 4423 \nQ 3450 4097 3450 3541 \nQ 3450 3153 3228 2886 \nQ 3006 2619 2597 2516 \nz\n\" transform=\"scale(0.015625)\"/>\n       </defs>\n       <use xlink:href=\"#DejaVuSans-33\"/>\n       <use xlink:href=\"#DejaVuSans-30\" transform=\"translate(63.623047 0)\"/>\n       <use xlink:href=\"#DejaVuSans-30\" transform=\"translate(127.246094 0)\"/>\n      </g>\n     </g>\n    </g>\n    <g id=\"xtick_5\">\n     <g id=\"line2d_5\">\n      <g>\n       <use xlink:href=\"#md530c7aae2\" x=\"357.959491\" y=\"299.518125\" style=\"stroke: #000000; stroke-width: 0.8\"/>\n      </g>\n     </g>\n     <g id=\"text_5\">\n      <!-- 400 -->\n      <g transform=\"translate(348.415741 314.116563) scale(0.1 -0.1)\">\n       <defs>\n        <path id=\"DejaVuSans-34\" d=\"M 2419 4116 \nL 825 1625 \nL 2419 1625 \nL 2419 4116 \nz\nM 2253 4666 \nL 3047 4666 \nL 3047 1625 \nL 3713 1625 \nL 3713 1100 \nL 3047 1100 \nL 3047 0 \nL 2419 0 \nL 2419 1100 \nL 313 1100 \nL 313 1709 \nL 2253 4666 \nz\n\" transform=\"scale(0.015625)\"/>\n       </defs>\n       <use xlink:href=\"#DejaVuSans-34\"/>\n       <use xlink:href=\"#DejaVuSans-30\" transform=\"translate(63.623047 0)\"/>\n       <use xlink:href=\"#DejaVuSans-30\" transform=\"translate(127.246094 0)\"/>\n      </g>\n     </g>\n    </g>\n    <g id=\"xtick_6\">\n     <g id=\"line2d_6\">\n      <g>\n       <use xlink:href=\"#md530c7aae2\" x=\"431.892481\" y=\"299.518125\" style=\"stroke: #000000; stroke-width: 0.8\"/>\n      </g>\n     </g>\n     <g id=\"text_6\">\n      <!-- 500 -->\n      <g transform=\"translate(422.348731 314.116563) scale(0.1 -0.1)\">\n       <defs>\n        <path id=\"DejaVuSans-35\" d=\"M 691 4666 \nL 3169 4666 \nL 3169 4134 \nL 1269 4134 \nL 1269 2991 \nQ 1406 3038 1543 3061 \nQ 1681 3084 1819 3084 \nQ 2600 3084 3056 2656 \nQ 3513 2228 3513 1497 \nQ 3513 744 3044 326 \nQ 2575 -91 1722 -91 \nQ 1428 -91 1123 -41 \nQ 819 9 494 109 \nL 494 744 \nQ 775 591 1075 516 \nQ 1375 441 1709 441 \nQ 2250 441 2565 725 \nQ 2881 1009 2881 1497 \nQ 2881 1984 2565 2268 \nQ 2250 2553 1709 2553 \nQ 1456 2553 1204 2497 \nQ 953 2441 691 2322 \nL 691 4666 \nz\n\" transform=\"scale(0.015625)\"/>\n       </defs>\n       <use xlink:href=\"#DejaVuSans-35\"/>\n       <use xlink:href=\"#DejaVuSans-30\" transform=\"translate(63.623047 0)\"/>\n       <use xlink:href=\"#DejaVuSans-30\" transform=\"translate(127.246094 0)\"/>\n      </g>\n     </g>\n    </g>\n    <g id=\"text_7\">\n     <!-- Epochs -->\n     <g transform=\"translate(228.774716 327.794688) scale(0.1 -0.1)\">\n      <defs>\n       <path id=\"DejaVuSans-45\" d=\"M 628 4666 \nL 3578 4666 \nL 3578 4134 \nL 1259 4134 \nL 1259 2753 \nL 3481 2753 \nL 3481 2222 \nL 1259 2222 \nL 1259 531 \nL 3634 531 \nL 3634 0 \nL 628 0 \nL 628 4666 \nz\n\" transform=\"scale(0.015625)\"/>\n       <path id=\"DejaVuSans-70\" d=\"M 1159 525 \nL 1159 -1331 \nL 581 -1331 \nL 581 3500 \nL 1159 3500 \nL 1159 2969 \nQ 1341 3281 1617 3432 \nQ 1894 3584 2278 3584 \nQ 2916 3584 3314 3078 \nQ 3713 2572 3713 1747 \nQ 3713 922 3314 415 \nQ 2916 -91 2278 -91 \nQ 1894 -91 1617 61 \nQ 1341 213 1159 525 \nz\nM 3116 1747 \nQ 3116 2381 2855 2742 \nQ 2594 3103 2138 3103 \nQ 1681 3103 1420 2742 \nQ 1159 2381 1159 1747 \nQ 1159 1113 1420 752 \nQ 1681 391 2138 391 \nQ 2594 391 2855 752 \nQ 3116 1113 3116 1747 \nz\n\" transform=\"scale(0.015625)\"/>\n       <path id=\"DejaVuSans-6f\" d=\"M 1959 3097 \nQ 1497 3097 1228 2736 \nQ 959 2375 959 1747 \nQ 959 1119 1226 758 \nQ 1494 397 1959 397 \nQ 2419 397 2687 759 \nQ 2956 1122 2956 1747 \nQ 2956 2369 2687 2733 \nQ 2419 3097 1959 3097 \nz\nM 1959 3584 \nQ 2709 3584 3137 3096 \nQ 3566 2609 3566 1747 \nQ 3566 888 3137 398 \nQ 2709 -91 1959 -91 \nQ 1206 -91 779 398 \nQ 353 888 353 1747 \nQ 353 2609 779 3096 \nQ 1206 3584 1959 3584 \nz\n\" transform=\"scale(0.015625)\"/>\n       <path id=\"DejaVuSans-63\" d=\"M 3122 3366 \nL 3122 2828 \nQ 2878 2963 2633 3030 \nQ 2388 3097 2138 3097 \nQ 1578 3097 1268 2742 \nQ 959 2388 959 1747 \nQ 959 1106 1268 751 \nQ 1578 397 2138 397 \nQ 2388 397 2633 464 \nQ 2878 531 3122 666 \nL 3122 134 \nQ 2881 22 2623 -34 \nQ 2366 -91 2075 -91 \nQ 1284 -91 818 406 \nQ 353 903 353 1747 \nQ 353 2603 823 3093 \nQ 1294 3584 2113 3584 \nQ 2378 3584 2631 3529 \nQ 2884 3475 3122 3366 \nz\n\" transform=\"scale(0.015625)\"/>\n       <path id=\"DejaVuSans-68\" d=\"M 3513 2113 \nL 3513 0 \nL 2938 0 \nL 2938 2094 \nQ 2938 2591 2744 2837 \nQ 2550 3084 2163 3084 \nQ 1697 3084 1428 2787 \nQ 1159 2491 1159 1978 \nL 1159 0 \nL 581 0 \nL 581 4863 \nL 1159 4863 \nL 1159 2956 \nQ 1366 3272 1645 3428 \nQ 1925 3584 2291 3584 \nQ 2894 3584 3203 3211 \nQ 3513 2838 3513 2113 \nz\n\" transform=\"scale(0.015625)\"/>\n       <path id=\"DejaVuSans-73\" d=\"M 2834 3397 \nL 2834 2853 \nQ 2591 2978 2328 3040 \nQ 2066 3103 1784 3103 \nQ 1356 3103 1142 2972 \nQ 928 2841 928 2578 \nQ 928 2378 1081 2264 \nQ 1234 2150 1697 2047 \nL 1894 2003 \nQ 2506 1872 2764 1633 \nQ 3022 1394 3022 966 \nQ 3022 478 2636 193 \nQ 2250 -91 1575 -91 \nQ 1294 -91 989 -36 \nQ 684 19 347 128 \nL 347 722 \nQ 666 556 975 473 \nQ 1284 391 1588 391 \nQ 1994 391 2212 530 \nQ 2431 669 2431 922 \nQ 2431 1156 2273 1281 \nQ 2116 1406 1581 1522 \nL 1381 1569 \nQ 847 1681 609 1914 \nQ 372 2147 372 2553 \nQ 372 3047 722 3315 \nQ 1072 3584 1716 3584 \nQ 2034 3584 2315 3537 \nQ 2597 3491 2834 3397 \nz\n\" transform=\"scale(0.015625)\"/>\n      </defs>\n      <use xlink:href=\"#DejaVuSans-45\"/>\n      <use xlink:href=\"#DejaVuSans-70\" transform=\"translate(63.183594 0)\"/>\n      <use xlink:href=\"#DejaVuSans-6f\" transform=\"translate(126.660156 0)\"/>\n      <use xlink:href=\"#DejaVuSans-63\" transform=\"translate(187.841797 0)\"/>\n      <use xlink:href=\"#DejaVuSans-68\" transform=\"translate(242.822266 0)\"/>\n      <use xlink:href=\"#DejaVuSans-73\" transform=\"translate(306.201172 0)\"/>\n     </g>\n    </g>\n   </g>\n   <g id=\"matplotlib.axis_2\">\n    <g id=\"ytick_1\">\n     <g id=\"line2d_7\">\n      <defs>\n       <path id=\"m0da3fff018\" d=\"M 0 0 \nL -3.5 0 \n\" style=\"stroke: #000000; stroke-width: 0.8\"/>\n      </defs>\n      <g>\n       <use xlink:href=\"#m0da3fff018\" x=\"43.78125\" y=\"267.710987\" style=\"stroke: #000000; stroke-width: 0.8\"/>\n      </g>\n     </g>\n     <g id=\"text_8\">\n      <!-- 0.1 -->\n      <g transform=\"translate(20.878125 271.510206) scale(0.1 -0.1)\">\n       <defs>\n        <path id=\"DejaVuSans-2e\" d=\"M 684 794 \nL 1344 794 \nL 1344 0 \nL 684 0 \nL 684 794 \nz\n\" transform=\"scale(0.015625)\"/>\n       </defs>\n       <use xlink:href=\"#DejaVuSans-30\"/>\n       <use xlink:href=\"#DejaVuSans-2e\" transform=\"translate(63.623047 0)\"/>\n       <use xlink:href=\"#DejaVuSans-31\" transform=\"translate(95.410156 0)\"/>\n      </g>\n     </g>\n    </g>\n    <g id=\"ytick_2\">\n     <g id=\"line2d_8\">\n      <g>\n       <use xlink:href=\"#m0da3fff018\" x=\"43.78125\" y=\"228.784069\" style=\"stroke: #000000; stroke-width: 0.8\"/>\n      </g>\n     </g>\n     <g id=\"text_9\">\n      <!-- 0.2 -->\n      <g transform=\"translate(20.878125 232.583287) scale(0.1 -0.1)\">\n       <use xlink:href=\"#DejaVuSans-30\"/>\n       <use xlink:href=\"#DejaVuSans-2e\" transform=\"translate(63.623047 0)\"/>\n       <use xlink:href=\"#DejaVuSans-32\" transform=\"translate(95.410156 0)\"/>\n      </g>\n     </g>\n    </g>\n    <g id=\"ytick_3\">\n     <g id=\"line2d_9\">\n      <g>\n       <use xlink:href=\"#m0da3fff018\" x=\"43.78125\" y=\"189.85715\" style=\"stroke: #000000; stroke-width: 0.8\"/>\n      </g>\n     </g>\n     <g id=\"text_10\">\n      <!-- 0.3 -->\n      <g transform=\"translate(20.878125 193.656369) scale(0.1 -0.1)\">\n       <use xlink:href=\"#DejaVuSans-30\"/>\n       <use xlink:href=\"#DejaVuSans-2e\" transform=\"translate(63.623047 0)\"/>\n       <use xlink:href=\"#DejaVuSans-33\" transform=\"translate(95.410156 0)\"/>\n      </g>\n     </g>\n    </g>\n    <g id=\"ytick_4\">\n     <g id=\"line2d_10\">\n      <g>\n       <use xlink:href=\"#m0da3fff018\" x=\"43.78125\" y=\"150.930232\" style=\"stroke: #000000; stroke-width: 0.8\"/>\n      </g>\n     </g>\n     <g id=\"text_11\">\n      <!-- 0.4 -->\n      <g transform=\"translate(20.878125 154.72945) scale(0.1 -0.1)\">\n       <use xlink:href=\"#DejaVuSans-30\"/>\n       <use xlink:href=\"#DejaVuSans-2e\" transform=\"translate(63.623047 0)\"/>\n       <use xlink:href=\"#DejaVuSans-34\" transform=\"translate(95.410156 0)\"/>\n      </g>\n     </g>\n    </g>\n    <g id=\"ytick_5\">\n     <g id=\"line2d_11\">\n      <g>\n       <use xlink:href=\"#m0da3fff018\" x=\"43.78125\" y=\"112.003313\" style=\"stroke: #000000; stroke-width: 0.8\"/>\n      </g>\n     </g>\n     <g id=\"text_12\">\n      <!-- 0.5 -->\n      <g transform=\"translate(20.878125 115.802532) scale(0.1 -0.1)\">\n       <use xlink:href=\"#DejaVuSans-30\"/>\n       <use xlink:href=\"#DejaVuSans-2e\" transform=\"translate(63.623047 0)\"/>\n       <use xlink:href=\"#DejaVuSans-35\" transform=\"translate(95.410156 0)\"/>\n      </g>\n     </g>\n    </g>\n    <g id=\"ytick_6\">\n     <g id=\"line2d_12\">\n      <g>\n       <use xlink:href=\"#m0da3fff018\" x=\"43.78125\" y=\"73.076395\" style=\"stroke: #000000; stroke-width: 0.8\"/>\n      </g>\n     </g>\n     <g id=\"text_13\">\n      <!-- 0.6 -->\n      <g transform=\"translate(20.878125 76.875613) scale(0.1 -0.1)\">\n       <defs>\n        <path id=\"DejaVuSans-36\" d=\"M 2113 2584 \nQ 1688 2584 1439 2293 \nQ 1191 2003 1191 1497 \nQ 1191 994 1439 701 \nQ 1688 409 2113 409 \nQ 2538 409 2786 701 \nQ 3034 994 3034 1497 \nQ 3034 2003 2786 2293 \nQ 2538 2584 2113 2584 \nz\nM 3366 4563 \nL 3366 3988 \nQ 3128 4100 2886 4159 \nQ 2644 4219 2406 4219 \nQ 1781 4219 1451 3797 \nQ 1122 3375 1075 2522 \nQ 1259 2794 1537 2939 \nQ 1816 3084 2150 3084 \nQ 2853 3084 3261 2657 \nQ 3669 2231 3669 1497 \nQ 3669 778 3244 343 \nQ 2819 -91 2113 -91 \nQ 1303 -91 875 529 \nQ 447 1150 447 2328 \nQ 447 3434 972 4092 \nQ 1497 4750 2381 4750 \nQ 2619 4750 2861 4703 \nQ 3103 4656 3366 4563 \nz\n\" transform=\"scale(0.015625)\"/>\n       </defs>\n       <use xlink:href=\"#DejaVuSans-30\"/>\n       <use xlink:href=\"#DejaVuSans-2e\" transform=\"translate(63.623047 0)\"/>\n       <use xlink:href=\"#DejaVuSans-36\" transform=\"translate(95.410156 0)\"/>\n      </g>\n     </g>\n    </g>\n    <g id=\"ytick_7\">\n     <g id=\"line2d_13\">\n      <g>\n       <use xlink:href=\"#m0da3fff018\" x=\"43.78125\" y=\"34.149476\" style=\"stroke: #000000; stroke-width: 0.8\"/>\n      </g>\n     </g>\n     <g id=\"text_14\">\n      <!-- 0.7 -->\n      <g transform=\"translate(20.878125 37.948695) scale(0.1 -0.1)\">\n       <defs>\n        <path id=\"DejaVuSans-37\" d=\"M 525 4666 \nL 3525 4666 \nL 3525 4397 \nL 1831 0 \nL 1172 0 \nL 2766 4134 \nL 525 4134 \nL 525 4666 \nz\n\" transform=\"scale(0.015625)\"/>\n       </defs>\n       <use xlink:href=\"#DejaVuSans-30\"/>\n       <use xlink:href=\"#DejaVuSans-2e\" transform=\"translate(63.623047 0)\"/>\n       <use xlink:href=\"#DejaVuSans-37\" transform=\"translate(95.410156 0)\"/>\n      </g>\n     </g>\n    </g>\n    <g id=\"text_15\">\n     <!-- Loss -->\n     <g transform=\"translate(14.798438 171.885313) rotate(-90) scale(0.1 -0.1)\">\n      <defs>\n       <path id=\"DejaVuSans-4c\" d=\"M 628 4666 \nL 1259 4666 \nL 1259 531 \nL 3531 531 \nL 3531 0 \nL 628 0 \nL 628 4666 \nz\n\" transform=\"scale(0.015625)\"/>\n      </defs>\n      <use xlink:href=\"#DejaVuSans-4c\"/>\n      <use xlink:href=\"#DejaVuSans-6f\" transform=\"translate(53.962891 0)\"/>\n      <use xlink:href=\"#DejaVuSans-73\" transform=\"translate(115.144531 0)\"/>\n      <use xlink:href=\"#DejaVuSans-73\" transform=\"translate(167.244141 0)\"/>\n     </g>\n    </g>\n   </g>\n   <g id=\"line2d_14\">\n    <path d=\"M 62.227531 34.918125 \nL 62.966861 35.392913 \nL 63.706191 35.621594 \nL 64.445521 36.062831 \nL 65.184851 36.043597 \nL 66.66351 36.941408 \nL 67.40284 37.037604 \nL 71.09949 38.349599 \nL 73.317479 38.912717 \nL 74.056809 39.289916 \nL 78.492789 40.385968 \nL 79.232119 40.621099 \nL 79.971449 41.155493 \nL 80.710778 41.322875 \nL 81.450108 41.257815 \nL 82.189438 41.395034 \nL 83.668098 41.834577 \nL 84.407428 41.808498 \nL 85.146758 41.918824 \nL 85.886088 42.660183 \nL 86.625418 42.484124 \nL 87.364748 42.881138 \nL 88.104077 43.933569 \nL 88.843407 43.49783 \nL 89.582737 43.501032 \nL 90.322067 44.048025 \nL 91.061397 43.559896 \nL 91.800727 44.003315 \nL 92.540057 44.601376 \nL 93.279387 44.60249 \nL 94.018717 44.89971 \nL 94.758047 45.364451 \nL 95.497376 45.53819 \nL 96.236706 46.341939 \nL 96.976036 46.162609 \nL 98.454696 46.674938 \nL 99.194026 46.085299 \nL 99.933356 47.171489 \nL 100.672686 47.666857 \nL 101.412016 48.526942 \nL 102.151346 48.788547 \nL 102.890675 48.670633 \nL 103.630005 48.34072 \nL 104.369335 50.060587 \nL 105.108665 50.044902 \nL 105.847995 50.497625 \nL 106.587325 51.497897 \nL 107.326655 51.800524 \nL 108.065985 52.552602 \nL 110.283974 54.083138 \nL 111.023304 53.87745 \nL 111.762634 55.647597 \nL 112.501964 56.153591 \nL 113.241294 56.221991 \nL 113.980624 57.771415 \nL 114.719954 57.75153 \nL 115.459284 59.694092 \nL 116.198614 59.679452 \nL 116.937944 60.881978 \nL 117.677273 61.816681 \nL 118.416603 62.391192 \nL 119.155933 63.425803 \nL 119.895263 62.958371 \nL 120.634593 65.245765 \nL 122.113253 67.755552 \nL 123.591913 69.13836 \nL 125.809902 75.227652 \nL 126.549232 75.11106 \nL 128.027892 78.55562 \nL 128.767222 79.438837 \nL 129.506552 82.219952 \nL 130.245882 83.924969 \nL 130.985212 85.210467 \nL 131.724542 88.38602 \nL 132.463871 90.18206 \nL 133.203201 90.626383 \nL 133.942531 95.17588 \nL 134.681861 95.800856 \nL 135.421191 97.634507 \nL 136.160521 100.654814 \nL 136.899851 102.268089 \nL 137.639181 105.548006 \nL 138.378511 106.578534 \nL 139.117841 111.001092 \nL 139.85717 111.089655 \nL 140.5965 112.363389 \nL 141.33583 116.297551 \nL 142.07516 118.718172 \nL 142.81449 122.272084 \nL 144.29315 128.270388 \nL 145.03248 131.877643 \nL 145.77181 130.991966 \nL 146.51114 134.911824 \nL 147.250469 140.490028 \nL 147.989799 140.727608 \nL 148.729129 140.214873 \nL 149.468459 141.954055 \nL 150.947119 147.589766 \nL 151.686449 149.052158 \nL 152.425779 151.693665 \nL 153.165109 150.556174 \nL 153.904439 158.294694 \nL 154.643768 157.657363 \nL 155.383098 156.744145 \nL 156.122428 157.114186 \nL 157.601088 160.823136 \nL 158.340418 160.114899 \nL 159.079748 163.884406 \nL 159.819078 168.343612 \nL 160.558408 167.517287 \nL 161.297738 170.361895 \nL 162.037067 165.087013 \nL 162.776397 169.498504 \nL 163.515727 163.502868 \nL 164.255057 170.631922 \nL 164.994387 171.149251 \nL 165.733717 170.095649 \nL 166.473047 177.515845 \nL 167.212377 171.567193 \nL 167.951707 178.693243 \nL 168.691037 172.88797 \nL 169.430366 172.761413 \nL 170.169696 173.236619 \nL 170.909026 171.188649 \nL 171.648356 172.630077 \nL 172.387686 173.103705 \nL 173.127016 179.524661 \nL 173.866346 171.966098 \nL 174.605676 179.454056 \nL 175.345006 173.893092 \nL 176.084336 178.018104 \nL 176.823665 174.409794 \nL 178.302325 178.827097 \nL 179.041655 175.33858 \nL 179.780985 178.213188 \nL 180.520315 176.990639 \nL 181.259645 179.090674 \nL 181.998975 176.157527 \nL 182.738305 184.024877 \nL 183.477635 181.592179 \nL 184.216964 175.88084 \nL 184.956294 182.253768 \nL 185.695624 181.185246 \nL 186.434954 178.153257 \nL 187.174284 181.722401 \nL 187.913614 177.157799 \nL 188.652944 180.756909 \nL 189.392274 176.785275 \nL 190.131604 182.964754 \nL 190.870933 183.529683 \nL 191.610263 185.085011 \nL 192.349593 182.617451 \nL 193.088923 184.631152 \nL 193.828253 187.101472 \nL 194.567583 178.387414 \nL 195.306913 179.625011 \nL 196.046243 179.696056 \nL 196.785573 185.504705 \nL 197.524903 180.220589 \nL 198.264232 187.051842 \nL 199.003562 185.474553 \nL 200.482222 180.004797 \nL 201.221552 180.119613 \nL 201.960882 180.970834 \nL 202.700212 188.260935 \nL 203.439542 191.865996 \nL 204.178872 190.003436 \nL 204.918202 185.189908 \nL 205.657531 188.378547 \nL 206.396861 183.201 \nL 207.136191 188.429789 \nL 207.875521 181.668108 \nL 208.614851 190.64528 \nL 209.354181 188.852662 \nL 210.093511 189.731157 \nL 210.832841 183.180524 \nL 211.572171 192.65659 \nL 212.311501 186.681964 \nL 213.05083 191.435803 \nL 213.79016 192.598689 \nL 214.52949 189.304793 \nL 215.26882 191.277854 \nL 216.00815 188.352735 \nL 216.74748 190.319543 \nL 217.48681 194.405796 \nL 218.22614 191.736133 \nL 218.96547 196.595358 \nL 219.7048 200.244329 \nL 220.444129 188.081918 \nL 221.183459 195.839568 \nL 221.922789 195.450245 \nL 222.662119 194.562469 \nL 224.140779 189.369933 \nL 224.880109 189.92833 \nL 225.619439 197.358271 \nL 226.358769 194.611588 \nL 227.098099 193.797236 \nL 227.837428 195.486302 \nL 228.576758 194.996792 \nL 229.316088 191.870034 \nL 230.055418 192.034236 \nL 230.794748 194.393209 \nL 231.534078 192.105119 \nL 232.273408 201.789205 \nL 233.012738 193.412682 \nL 233.752068 191.112944 \nL 234.491398 197.106376 \nL 235.230727 195.66801 \nL 236.709387 196.678863 \nL 237.448717 197.526905 \nL 238.188047 196.156974 \nL 238.927377 196.33265 \nL 239.666707 195.593601 \nL 240.406037 198.097657 \nL 241.145367 202.937809 \nL 241.884697 199.601592 \nL 242.624026 193.605736 \nL 243.363356 198.063967 \nL 244.102686 204.735636 \nL 244.842016 204.492789 \nL 245.581346 197.068846 \nL 246.320676 201.9677 \nL 247.060006 197.028787 \nL 247.799336 194.65109 \nL 248.538666 202.135707 \nL 249.277996 205.241433 \nL 250.756655 196.002749 \nL 251.495985 202.644695 \nL 252.235315 199.321831 \nL 252.974645 198.58654 \nL 253.713975 199.1943 \nL 254.453305 199.197687 \nL 255.192635 210.386382 \nL 255.931965 202.333866 \nL 256.671295 204.764 \nL 257.410624 198.857044 \nL 258.149954 205.280749 \nL 258.889284 203.954277 \nL 259.628614 203.732103 \nL 260.367944 205.009469 \nL 261.107274 204.987194 \nL 261.846604 201.085922 \nL 262.585934 202.08218 \nL 263.325264 202.487628 \nL 264.064594 204.307798 \nL 264.803923 200.015544 \nL 265.543253 207.495068 \nL 266.282583 209.941009 \nL 267.021913 210.191256 \nL 267.761243 202.81145 \nL 268.500573 207.611845 \nL 269.239903 206.566433 \nL 269.979233 209.195758 \nL 270.718563 204.475736 \nL 271.457893 212.68355 \nL 272.197222 206.670877 \nL 272.936552 208.017223 \nL 273.675882 207.810584 \nL 274.415212 207.447666 \nL 275.154542 211.290347 \nL 275.893872 210.025656 \nL 277.372532 206.763443 \nL 278.111862 210.934314 \nL 278.851192 209.283439 \nL 279.590521 214.217073 \nL 280.329851 214.152414 \nL 281.069181 219.605245 \nL 281.808511 210.308045 \nL 282.547841 210.104538 \nL 283.287171 213.956524 \nL 284.026501 216.760957 \nL 284.765831 216.433277 \nL 285.505161 213.018619 \nL 286.244491 215.473046 \nL 286.98382 214.91194 \nL 287.72315 219.775544 \nL 288.46248 214.728213 \nL 289.20181 214.263878 \nL 289.94114 218.580744 \nL 290.68047 216.832396 \nL 291.4198 213.964644 \nL 292.15913 217.035027 \nL 292.89846 213.78923 \nL 294.377119 225.083488 \nL 295.116449 217.699169 \nL 295.855779 215.667545 \nL 296.595109 219.855528 \nL 297.334439 215.260015 \nL 298.073769 215.39319 \nL 298.813099 215.865106 \nL 299.552429 219.262444 \nL 300.291759 219.905912 \nL 301.031089 218.066408 \nL 301.770418 221.835591 \nL 302.509748 220.776321 \nL 303.249078 217.418485 \nL 303.988408 221.343958 \nL 304.727738 220.195226 \nL 305.467068 223.168264 \nL 306.945728 221.769168 \nL 307.685058 222.593892 \nL 308.424388 222.529059 \nL 309.163717 221.952431 \nL 309.903047 221.557842 \nL 310.642377 227.02159 \nL 311.381707 225.653492 \nL 312.121037 227.858216 \nL 312.860367 232.561417 \nL 313.599697 225.301439 \nL 314.339027 229.993427 \nL 315.078357 224.422665 \nL 315.817687 227.706949 \nL 316.557016 227.242046 \nL 317.296346 232.147019 \nL 318.035676 227.869754 \nL 319.514336 234.484269 \nL 320.253666 233.718142 \nL 320.992996 229.057112 \nL 321.732326 232.999934 \nL 322.471656 231.466515 \nL 323.210986 231.947358 \nL 323.950315 231.156039 \nL 324.689645 238.229803 \nL 325.428975 231.232497 \nL 326.168305 229.992812 \nL 326.907635 241.62558 \nL 327.646965 233.767064 \nL 328.386295 237.156733 \nL 329.125625 242.102856 \nL 329.864955 235.44776 \nL 330.604284 235.269717 \nL 331.343614 239.327374 \nL 332.082944 235.528544 \nL 332.822274 241.148634 \nL 333.561604 237.059301 \nL 334.300934 239.385739 \nL 335.040264 236.299457 \nL 335.779594 239.326672 \nL 336.518924 239.675001 \nL 337.258254 238.994415 \nL 337.997583 237.145341 \nL 338.736913 249.624597 \nL 339.476243 238.866177 \nL 340.215573 241.667036 \nL 340.954903 241.983602 \nL 341.694233 241.170224 \nL 342.433563 247.407401 \nL 343.172893 244.060192 \nL 343.912223 244.927312 \nL 344.651553 248.952503 \nL 345.390882 244.471551 \nL 346.130212 243.486371 \nL 346.869542 247.650184 \nL 347.608872 245.836754 \nL 348.348202 245.131991 \nL 349.087532 246.152902 \nL 350.566192 247.579428 \nL 351.305522 246.969957 \nL 352.044852 251.326325 \nL 352.784181 248.203111 \nL 353.523511 251.528579 \nL 354.262841 251.073252 \nL 355.002171 251.26003 \nL 355.741501 249.620815 \nL 356.480831 251.351291 \nL 357.220161 250.897484 \nL 357.959491 251.222744 \nL 358.698821 252.350618 \nL 359.438151 251.693936 \nL 360.17748 255.528636 \nL 360.91681 253.089922 \nL 361.65614 253.997554 \nL 363.1348 255.343041 \nL 363.87413 255.156785 \nL 364.61346 256.34054 \nL 365.35279 256.732543 \nL 366.09212 257.968613 \nL 366.83145 255.930441 \nL 367.570779 258.166868 \nL 368.310109 258.627821 \nL 369.049439 258.909476 \nL 369.788769 261.614952 \nL 370.528099 263.820894 \nL 371.267429 261.327029 \nL 372.006759 259.794454 \nL 374.224749 261.643102 \nL 374.964078 262.410133 \nL 376.442738 262.413501 \nL 377.182068 266.60394 \nL 377.921398 264.507582 \nL 378.660728 263.63652 \nL 379.400058 264.5418 \nL 380.139388 268.511998 \nL 380.878718 265.809214 \nL 381.618048 265.769776 \nL 382.357377 267.081454 \nL 383.096707 265.661361 \nL 383.836037 267.78227 \nL 384.575367 267.267971 \nL 385.314697 267.148152 \nL 386.054027 267.850278 \nL 386.793357 267.549209 \nL 387.532687 269.385876 \nL 388.272017 270.657374 \nL 389.011347 269.902648 \nL 389.750676 270.3973 \nL 390.490006 270.591764 \nL 391.229336 270.453585 \nL 391.968666 272.633022 \nL 392.707996 271.716496 \nL 393.447326 272.498867 \nL 394.186656 271.453382 \nL 395.665316 274.449944 \nL 396.404646 273.822915 \nL 397.143975 274.604097 \nL 397.883305 276.463569 \nL 398.622635 274.510351 \nL 399.361965 274.334185 \nL 400.101295 275.41407 \nL 400.840625 274.850287 \nL 401.579955 275.70853 \nL 402.319285 276.161885 \nL 403.058615 277.145211 \nL 403.797945 276.420778 \nL 404.537274 276.439903 \nL 405.276604 278.307843 \nL 406.015934 276.915433 \nL 406.755264 277.312104 \nL 407.494594 278.666144 \nL 408.233924 277.656452 \nL 408.973254 277.700498 \nL 409.712584 279.274499 \nL 410.451914 280.0301 \nL 411.191244 279.845622 \nL 411.930573 278.662269 \nL 412.669903 280.260261 \nL 413.409233 279.129711 \nL 414.148563 280.270693 \nL 414.887893 285.796193 \nL 415.627223 280.758796 \nL 416.366553 281.291064 \nL 417.105883 281.259532 \nL 417.845213 286.918125 \nL 418.584543 281.040149 \nL 419.323872 282.53556 \nL 420.063202 281.756452 \nL 420.802532 281.871382 \nL 421.541862 282.964398 \nL 422.281192 283.108385 \nL 423.020522 283.73371 \nL 423.759852 283.552754 \nL 424.499182 282.753486 \nL 425.238512 283.594505 \nL 425.977842 283.502131 \nL 426.717171 283.563223 \nL 427.456501 283.926274 \nL 428.195831 284.795186 \nL 428.935161 284.650325 \nL 429.674491 284.085594 \nL 430.413821 284.769726 \nL 431.153151 286.212102 \nL 431.153151 286.212102 \n\" clip-path=\"url(#pa7be57ad72)\" style=\"fill: none; stroke: #1f77b4; stroke-width: 1.5; stroke-linecap: square\"/>\n   </g>\n   <g id=\"patch_3\">\n    <path d=\"M 43.78125 299.518125 \nL 43.78125 22.318125 \n\" style=\"fill: none; stroke: #000000; stroke-width: 0.8; stroke-linejoin: miter; stroke-linecap: square\"/>\n   </g>\n   <g id=\"patch_4\">\n    <path d=\"M 449.599432 299.518125 \nL 449.599432 22.318125 \n\" style=\"fill: none; stroke: #000000; stroke-width: 0.8; stroke-linejoin: miter; stroke-linecap: square\"/>\n   </g>\n   <g id=\"patch_5\">\n    <path d=\"M 43.78125 299.518125 \nL 449.599432 299.518125 \n\" style=\"fill: none; stroke: #000000; stroke-width: 0.8; stroke-linejoin: miter; stroke-linecap: square\"/>\n   </g>\n   <g id=\"patch_6\">\n    <path d=\"M 43.78125 22.318125 \nL 449.599432 22.318125 \n\" style=\"fill: none; stroke: #000000; stroke-width: 0.8; stroke-linejoin: miter; stroke-linecap: square\"/>\n   </g>\n   <g id=\"text_16\">\n    <!-- Model loss -->\n    <g transform=\"translate(215.178153 16.318125) scale(0.12 -0.12)\">\n     <defs>\n      <path id=\"DejaVuSans-4d\" d=\"M 628 4666 \nL 1569 4666 \nL 2759 1491 \nL 3956 4666 \nL 4897 4666 \nL 4897 0 \nL 4281 0 \nL 4281 4097 \nL 3078 897 \nL 2444 897 \nL 1241 4097 \nL 1241 0 \nL 628 0 \nL 628 4666 \nz\n\" transform=\"scale(0.015625)\"/>\n      <path id=\"DejaVuSans-64\" d=\"M 2906 2969 \nL 2906 4863 \nL 3481 4863 \nL 3481 0 \nL 2906 0 \nL 2906 525 \nQ 2725 213 2448 61 \nQ 2172 -91 1784 -91 \nQ 1150 -91 751 415 \nQ 353 922 353 1747 \nQ 353 2572 751 3078 \nQ 1150 3584 1784 3584 \nQ 2172 3584 2448 3432 \nQ 2725 3281 2906 2969 \nz\nM 947 1747 \nQ 947 1113 1208 752 \nQ 1469 391 1925 391 \nQ 2381 391 2643 752 \nQ 2906 1113 2906 1747 \nQ 2906 2381 2643 2742 \nQ 2381 3103 1925 3103 \nQ 1469 3103 1208 2742 \nQ 947 2381 947 1747 \nz\n\" transform=\"scale(0.015625)\"/>\n      <path id=\"DejaVuSans-65\" d=\"M 3597 1894 \nL 3597 1613 \nL 953 1613 \nQ 991 1019 1311 708 \nQ 1631 397 2203 397 \nQ 2534 397 2845 478 \nQ 3156 559 3463 722 \nL 3463 178 \nQ 3153 47 2828 -22 \nQ 2503 -91 2169 -91 \nQ 1331 -91 842 396 \nQ 353 884 353 1716 \nQ 353 2575 817 3079 \nQ 1281 3584 2069 3584 \nQ 2775 3584 3186 3129 \nQ 3597 2675 3597 1894 \nz\nM 3022 2063 \nQ 3016 2534 2758 2815 \nQ 2500 3097 2075 3097 \nQ 1594 3097 1305 2825 \nQ 1016 2553 972 2059 \nL 3022 2063 \nz\n\" transform=\"scale(0.015625)\"/>\n      <path id=\"DejaVuSans-6c\" d=\"M 603 4863 \nL 1178 4863 \nL 1178 0 \nL 603 0 \nL 603 4863 \nz\n\" transform=\"scale(0.015625)\"/>\n      <path id=\"DejaVuSans-20\" transform=\"scale(0.015625)\"/>\n     </defs>\n     <use xlink:href=\"#DejaVuSans-4d\"/>\n     <use xlink:href=\"#DejaVuSans-6f\" transform=\"translate(86.279297 0)\"/>\n     <use xlink:href=\"#DejaVuSans-64\" transform=\"translate(147.460938 0)\"/>\n     <use xlink:href=\"#DejaVuSans-65\" transform=\"translate(210.9375 0)\"/>\n     <use xlink:href=\"#DejaVuSans-6c\" transform=\"translate(272.460938 0)\"/>\n     <use xlink:href=\"#DejaVuSans-20\" transform=\"translate(300.244141 0)\"/>\n     <use xlink:href=\"#DejaVuSans-6c\" transform=\"translate(332.03125 0)\"/>\n     <use xlink:href=\"#DejaVuSans-6f\" transform=\"translate(359.814453 0)\"/>\n     <use xlink:href=\"#DejaVuSans-73\" transform=\"translate(420.996094 0)\"/>\n     <use xlink:href=\"#DejaVuSans-73\" transform=\"translate(473.095703 0)\"/>\n    </g>\n   </g>\n  </g>\n  <g id=\"axes_2\">\n   <g id=\"patch_7\">\n    <path d=\"M 530.763068 299.518125 \nL 936.58125 299.518125 \nL 936.58125 22.318125 \nL 530.763068 22.318125 \nz\n\" style=\"fill: #ffffff\"/>\n   </g>\n   <g id=\"matplotlib.axis_3\">\n    <g id=\"xtick_7\">\n     <g id=\"line2d_15\">\n      <g>\n       <use xlink:href=\"#md530c7aae2\" x=\"549.209349\" y=\"299.518125\" style=\"stroke: #000000; stroke-width: 0.8\"/>\n      </g>\n     </g>\n     <g id=\"text_17\">\n      <!-- 0 -->\n      <g transform=\"translate(546.028099 314.116563) scale(0.1 -0.1)\">\n       <use xlink:href=\"#DejaVuSans-30\"/>\n      </g>\n     </g>\n    </g>\n    <g id=\"xtick_8\">\n     <g id=\"line2d_16\">\n      <g>\n       <use xlink:href=\"#md530c7aae2\" x=\"623.142339\" y=\"299.518125\" style=\"stroke: #000000; stroke-width: 0.8\"/>\n      </g>\n     </g>\n     <g id=\"text_18\">\n      <!-- 100 -->\n      <g transform=\"translate(613.598589 314.116563) scale(0.1 -0.1)\">\n       <use xlink:href=\"#DejaVuSans-31\"/>\n       <use xlink:href=\"#DejaVuSans-30\" transform=\"translate(63.623047 0)\"/>\n       <use xlink:href=\"#DejaVuSans-30\" transform=\"translate(127.246094 0)\"/>\n      </g>\n     </g>\n    </g>\n    <g id=\"xtick_9\">\n     <g id=\"line2d_17\">\n      <g>\n       <use xlink:href=\"#md530c7aae2\" x=\"697.075329\" y=\"299.518125\" style=\"stroke: #000000; stroke-width: 0.8\"/>\n      </g>\n     </g>\n     <g id=\"text_19\">\n      <!-- 200 -->\n      <g transform=\"translate(687.531579 314.116563) scale(0.1 -0.1)\">\n       <use xlink:href=\"#DejaVuSans-32\"/>\n       <use xlink:href=\"#DejaVuSans-30\" transform=\"translate(63.623047 0)\"/>\n       <use xlink:href=\"#DejaVuSans-30\" transform=\"translate(127.246094 0)\"/>\n      </g>\n     </g>\n    </g>\n    <g id=\"xtick_10\">\n     <g id=\"line2d_18\">\n      <g>\n       <use xlink:href=\"#md530c7aae2\" x=\"771.008319\" y=\"299.518125\" style=\"stroke: #000000; stroke-width: 0.8\"/>\n      </g>\n     </g>\n     <g id=\"text_20\">\n      <!-- 300 -->\n      <g transform=\"translate(761.464569 314.116563) scale(0.1 -0.1)\">\n       <use xlink:href=\"#DejaVuSans-33\"/>\n       <use xlink:href=\"#DejaVuSans-30\" transform=\"translate(63.623047 0)\"/>\n       <use xlink:href=\"#DejaVuSans-30\" transform=\"translate(127.246094 0)\"/>\n      </g>\n     </g>\n    </g>\n    <g id=\"xtick_11\">\n     <g id=\"line2d_19\">\n      <g>\n       <use xlink:href=\"#md530c7aae2\" x=\"844.941309\" y=\"299.518125\" style=\"stroke: #000000; stroke-width: 0.8\"/>\n      </g>\n     </g>\n     <g id=\"text_21\">\n      <!-- 400 -->\n      <g transform=\"translate(835.397559 314.116563) scale(0.1 -0.1)\">\n       <use xlink:href=\"#DejaVuSans-34\"/>\n       <use xlink:href=\"#DejaVuSans-30\" transform=\"translate(63.623047 0)\"/>\n       <use xlink:href=\"#DejaVuSans-30\" transform=\"translate(127.246094 0)\"/>\n      </g>\n     </g>\n    </g>\n    <g id=\"xtick_12\">\n     <g id=\"line2d_20\">\n      <g>\n       <use xlink:href=\"#md530c7aae2\" x=\"918.874299\" y=\"299.518125\" style=\"stroke: #000000; stroke-width: 0.8\"/>\n      </g>\n     </g>\n     <g id=\"text_22\">\n      <!-- 500 -->\n      <g transform=\"translate(909.330549 314.116563) scale(0.1 -0.1)\">\n       <use xlink:href=\"#DejaVuSans-35\"/>\n       <use xlink:href=\"#DejaVuSans-30\" transform=\"translate(63.623047 0)\"/>\n       <use xlink:href=\"#DejaVuSans-30\" transform=\"translate(127.246094 0)\"/>\n      </g>\n     </g>\n    </g>\n    <g id=\"text_23\">\n     <!-- Epochs -->\n     <g transform=\"translate(715.756534 327.794688) scale(0.1 -0.1)\">\n      <use xlink:href=\"#DejaVuSans-45\"/>\n      <use xlink:href=\"#DejaVuSans-70\" transform=\"translate(63.183594 0)\"/>\n      <use xlink:href=\"#DejaVuSans-6f\" transform=\"translate(126.660156 0)\"/>\n      <use xlink:href=\"#DejaVuSans-63\" transform=\"translate(187.841797 0)\"/>\n      <use xlink:href=\"#DejaVuSans-68\" transform=\"translate(242.822266 0)\"/>\n      <use xlink:href=\"#DejaVuSans-73\" transform=\"translate(306.201172 0)\"/>\n     </g>\n    </g>\n   </g>\n   <g id=\"matplotlib.axis_4\">\n    <g id=\"ytick_8\">\n     <g id=\"line2d_21\">\n      <g>\n       <use xlink:href=\"#m0da3fff018\" x=\"530.763068\" y=\"299.518125\" style=\"stroke: #000000; stroke-width: 0.8\"/>\n      </g>\n     </g>\n     <g id=\"text_24\">\n      <!-- 10 -->\n      <g transform=\"translate(511.038068 303.317344) scale(0.1 -0.1)\">\n       <use xlink:href=\"#DejaVuSans-31\"/>\n       <use xlink:href=\"#DejaVuSans-30\" transform=\"translate(63.623047 0)\"/>\n      </g>\n     </g>\n    </g>\n    <g id=\"ytick_9\">\n     <g id=\"line2d_22\">\n      <g>\n       <use xlink:href=\"#m0da3fff018\" x=\"530.763068\" y=\"268.718125\" style=\"stroke: #000000; stroke-width: 0.8\"/>\n      </g>\n     </g>\n     <g id=\"text_25\">\n      <!-- 20 -->\n      <g transform=\"translate(511.038068 272.517344) scale(0.1 -0.1)\">\n       <use xlink:href=\"#DejaVuSans-32\"/>\n       <use xlink:href=\"#DejaVuSans-30\" transform=\"translate(63.623047 0)\"/>\n      </g>\n     </g>\n    </g>\n    <g id=\"ytick_10\">\n     <g id=\"line2d_23\">\n      <g>\n       <use xlink:href=\"#m0da3fff018\" x=\"530.763068\" y=\"237.918125\" style=\"stroke: #000000; stroke-width: 0.8\"/>\n      </g>\n     </g>\n     <g id=\"text_26\">\n      <!-- 30 -->\n      <g transform=\"translate(511.038068 241.717344) scale(0.1 -0.1)\">\n       <use xlink:href=\"#DejaVuSans-33\"/>\n       <use xlink:href=\"#DejaVuSans-30\" transform=\"translate(63.623047 0)\"/>\n      </g>\n     </g>\n    </g>\n    <g id=\"ytick_11\">\n     <g id=\"line2d_24\">\n      <g>\n       <use xlink:href=\"#m0da3fff018\" x=\"530.763068\" y=\"207.118125\" style=\"stroke: #000000; stroke-width: 0.8\"/>\n      </g>\n     </g>\n     <g id=\"text_27\">\n      <!-- 40 -->\n      <g transform=\"translate(511.038068 210.917344) scale(0.1 -0.1)\">\n       <use xlink:href=\"#DejaVuSans-34\"/>\n       <use xlink:href=\"#DejaVuSans-30\" transform=\"translate(63.623047 0)\"/>\n      </g>\n     </g>\n    </g>\n    <g id=\"ytick_12\">\n     <g id=\"line2d_25\">\n      <g>\n       <use xlink:href=\"#m0da3fff018\" x=\"530.763068\" y=\"176.318125\" style=\"stroke: #000000; stroke-width: 0.8\"/>\n      </g>\n     </g>\n     <g id=\"text_28\">\n      <!-- 50 -->\n      <g transform=\"translate(511.038068 180.117344) scale(0.1 -0.1)\">\n       <use xlink:href=\"#DejaVuSans-35\"/>\n       <use xlink:href=\"#DejaVuSans-30\" transform=\"translate(63.623047 0)\"/>\n      </g>\n     </g>\n    </g>\n    <g id=\"ytick_13\">\n     <g id=\"line2d_26\">\n      <g>\n       <use xlink:href=\"#m0da3fff018\" x=\"530.763068\" y=\"145.518125\" style=\"stroke: #000000; stroke-width: 0.8\"/>\n      </g>\n     </g>\n     <g id=\"text_29\">\n      <!-- 60 -->\n      <g transform=\"translate(511.038068 149.317344) scale(0.1 -0.1)\">\n       <use xlink:href=\"#DejaVuSans-36\"/>\n       <use xlink:href=\"#DejaVuSans-30\" transform=\"translate(63.623047 0)\"/>\n      </g>\n     </g>\n    </g>\n    <g id=\"ytick_14\">\n     <g id=\"line2d_27\">\n      <g>\n       <use xlink:href=\"#m0da3fff018\" x=\"530.763068\" y=\"114.718125\" style=\"stroke: #000000; stroke-width: 0.8\"/>\n      </g>\n     </g>\n     <g id=\"text_30\">\n      <!-- 70 -->\n      <g transform=\"translate(511.038068 118.517344) scale(0.1 -0.1)\">\n       <use xlink:href=\"#DejaVuSans-37\"/>\n       <use xlink:href=\"#DejaVuSans-30\" transform=\"translate(63.623047 0)\"/>\n      </g>\n     </g>\n    </g>\n    <g id=\"ytick_15\">\n     <g id=\"line2d_28\">\n      <g>\n       <use xlink:href=\"#m0da3fff018\" x=\"530.763068\" y=\"83.918125\" style=\"stroke: #000000; stroke-width: 0.8\"/>\n      </g>\n     </g>\n     <g id=\"text_31\">\n      <!-- 80 -->\n      <g transform=\"translate(511.038068 87.717344) scale(0.1 -0.1)\">\n       <defs>\n        <path id=\"DejaVuSans-38\" d=\"M 2034 2216 \nQ 1584 2216 1326 1975 \nQ 1069 1734 1069 1313 \nQ 1069 891 1326 650 \nQ 1584 409 2034 409 \nQ 2484 409 2743 651 \nQ 3003 894 3003 1313 \nQ 3003 1734 2745 1975 \nQ 2488 2216 2034 2216 \nz\nM 1403 2484 \nQ 997 2584 770 2862 \nQ 544 3141 544 3541 \nQ 544 4100 942 4425 \nQ 1341 4750 2034 4750 \nQ 2731 4750 3128 4425 \nQ 3525 4100 3525 3541 \nQ 3525 3141 3298 2862 \nQ 3072 2584 2669 2484 \nQ 3125 2378 3379 2068 \nQ 3634 1759 3634 1313 \nQ 3634 634 3220 271 \nQ 2806 -91 2034 -91 \nQ 1263 -91 848 271 \nQ 434 634 434 1313 \nQ 434 1759 690 2068 \nQ 947 2378 1403 2484 \nz\nM 1172 3481 \nQ 1172 3119 1398 2916 \nQ 1625 2713 2034 2713 \nQ 2441 2713 2670 2916 \nQ 2900 3119 2900 3481 \nQ 2900 3844 2670 4047 \nQ 2441 4250 2034 4250 \nQ 1625 4250 1398 4047 \nQ 1172 3844 1172 3481 \nz\n\" transform=\"scale(0.015625)\"/>\n       </defs>\n       <use xlink:href=\"#DejaVuSans-38\"/>\n       <use xlink:href=\"#DejaVuSans-30\" transform=\"translate(63.623047 0)\"/>\n      </g>\n     </g>\n    </g>\n    <g id=\"ytick_16\">\n     <g id=\"line2d_29\">\n      <g>\n       <use xlink:href=\"#m0da3fff018\" x=\"530.763068\" y=\"53.118125\" style=\"stroke: #000000; stroke-width: 0.8\"/>\n      </g>\n     </g>\n     <g id=\"text_32\">\n      <!-- 90 -->\n      <g transform=\"translate(511.038068 56.917344) scale(0.1 -0.1)\">\n       <defs>\n        <path id=\"DejaVuSans-39\" d=\"M 703 97 \nL 703 672 \nQ 941 559 1184 500 \nQ 1428 441 1663 441 \nQ 2288 441 2617 861 \nQ 2947 1281 2994 2138 \nQ 2813 1869 2534 1725 \nQ 2256 1581 1919 1581 \nQ 1219 1581 811 2004 \nQ 403 2428 403 3163 \nQ 403 3881 828 4315 \nQ 1253 4750 1959 4750 \nQ 2769 4750 3195 4129 \nQ 3622 3509 3622 2328 \nQ 3622 1225 3098 567 \nQ 2575 -91 1691 -91 \nQ 1453 -91 1209 -44 \nQ 966 3 703 97 \nz\nM 1959 2075 \nQ 2384 2075 2632 2365 \nQ 2881 2656 2881 3163 \nQ 2881 3666 2632 3958 \nQ 2384 4250 1959 4250 \nQ 1534 4250 1286 3958 \nQ 1038 3666 1038 3163 \nQ 1038 2656 1286 2365 \nQ 1534 2075 1959 2075 \nz\n\" transform=\"scale(0.015625)\"/>\n       </defs>\n       <use xlink:href=\"#DejaVuSans-39\"/>\n       <use xlink:href=\"#DejaVuSans-30\" transform=\"translate(63.623047 0)\"/>\n      </g>\n     </g>\n    </g>\n    <g id=\"ytick_17\">\n     <g id=\"line2d_30\">\n      <g>\n       <use xlink:href=\"#m0da3fff018\" x=\"530.763068\" y=\"22.318125\" style=\"stroke: #000000; stroke-width: 0.8\"/>\n      </g>\n     </g>\n     <g id=\"text_33\">\n      <!-- 100 -->\n      <g transform=\"translate(504.675568 26.117344) scale(0.1 -0.1)\">\n       <use xlink:href=\"#DejaVuSans-31\"/>\n       <use xlink:href=\"#DejaVuSans-30\" transform=\"translate(63.623047 0)\"/>\n       <use xlink:href=\"#DejaVuSans-30\" transform=\"translate(127.246094 0)\"/>\n      </g>\n     </g>\n    </g>\n    <g id=\"text_34\">\n     <!-- Accuracy (%) -->\n     <g transform=\"translate(498.595881 193.987656) rotate(-90) scale(0.1 -0.1)\">\n      <defs>\n       <path id=\"DejaVuSans-41\" d=\"M 2188 4044 \nL 1331 1722 \nL 3047 1722 \nL 2188 4044 \nz\nM 1831 4666 \nL 2547 4666 \nL 4325 0 \nL 3669 0 \nL 3244 1197 \nL 1141 1197 \nL 716 0 \nL 50 0 \nL 1831 4666 \nz\n\" transform=\"scale(0.015625)\"/>\n       <path id=\"DejaVuSans-75\" d=\"M 544 1381 \nL 544 3500 \nL 1119 3500 \nL 1119 1403 \nQ 1119 906 1312 657 \nQ 1506 409 1894 409 \nQ 2359 409 2629 706 \nQ 2900 1003 2900 1516 \nL 2900 3500 \nL 3475 3500 \nL 3475 0 \nL 2900 0 \nL 2900 538 \nQ 2691 219 2414 64 \nQ 2138 -91 1772 -91 \nQ 1169 -91 856 284 \nQ 544 659 544 1381 \nz\nM 1991 3584 \nL 1991 3584 \nz\n\" transform=\"scale(0.015625)\"/>\n       <path id=\"DejaVuSans-72\" d=\"M 2631 2963 \nQ 2534 3019 2420 3045 \nQ 2306 3072 2169 3072 \nQ 1681 3072 1420 2755 \nQ 1159 2438 1159 1844 \nL 1159 0 \nL 581 0 \nL 581 3500 \nL 1159 3500 \nL 1159 2956 \nQ 1341 3275 1631 3429 \nQ 1922 3584 2338 3584 \nQ 2397 3584 2469 3576 \nQ 2541 3569 2628 3553 \nL 2631 2963 \nz\n\" transform=\"scale(0.015625)\"/>\n       <path id=\"DejaVuSans-61\" d=\"M 2194 1759 \nQ 1497 1759 1228 1600 \nQ 959 1441 959 1056 \nQ 959 750 1161 570 \nQ 1363 391 1709 391 \nQ 2188 391 2477 730 \nQ 2766 1069 2766 1631 \nL 2766 1759 \nL 2194 1759 \nz\nM 3341 1997 \nL 3341 0 \nL 2766 0 \nL 2766 531 \nQ 2569 213 2275 61 \nQ 1981 -91 1556 -91 \nQ 1019 -91 701 211 \nQ 384 513 384 1019 \nQ 384 1609 779 1909 \nQ 1175 2209 1959 2209 \nL 2766 2209 \nL 2766 2266 \nQ 2766 2663 2505 2880 \nQ 2244 3097 1772 3097 \nQ 1472 3097 1187 3025 \nQ 903 2953 641 2809 \nL 641 3341 \nQ 956 3463 1253 3523 \nQ 1550 3584 1831 3584 \nQ 2591 3584 2966 3190 \nQ 3341 2797 3341 1997 \nz\n\" transform=\"scale(0.015625)\"/>\n       <path id=\"DejaVuSans-79\" d=\"M 2059 -325 \nQ 1816 -950 1584 -1140 \nQ 1353 -1331 966 -1331 \nL 506 -1331 \nL 506 -850 \nL 844 -850 \nQ 1081 -850 1212 -737 \nQ 1344 -625 1503 -206 \nL 1606 56 \nL 191 3500 \nL 800 3500 \nL 1894 763 \nL 2988 3500 \nL 3597 3500 \nL 2059 -325 \nz\n\" transform=\"scale(0.015625)\"/>\n       <path id=\"DejaVuSans-28\" d=\"M 1984 4856 \nQ 1566 4138 1362 3434 \nQ 1159 2731 1159 2009 \nQ 1159 1288 1364 580 \nQ 1569 -128 1984 -844 \nL 1484 -844 \nQ 1016 -109 783 600 \nQ 550 1309 550 2009 \nQ 550 2706 781 3412 \nQ 1013 4119 1484 4856 \nL 1984 4856 \nz\n\" transform=\"scale(0.015625)\"/>\n       <path id=\"DejaVuSans-25\" d=\"M 4653 2053 \nQ 4381 2053 4226 1822 \nQ 4072 1591 4072 1178 \nQ 4072 772 4226 539 \nQ 4381 306 4653 306 \nQ 4919 306 5073 539 \nQ 5228 772 5228 1178 \nQ 5228 1588 5073 1820 \nQ 4919 2053 4653 2053 \nz\nM 4653 2450 \nQ 5147 2450 5437 2106 \nQ 5728 1763 5728 1178 \nQ 5728 594 5436 251 \nQ 5144 -91 4653 -91 \nQ 4153 -91 3862 251 \nQ 3572 594 3572 1178 \nQ 3572 1766 3864 2108 \nQ 4156 2450 4653 2450 \nz\nM 1428 4353 \nQ 1159 4353 1004 4120 \nQ 850 3888 850 3481 \nQ 850 3069 1003 2837 \nQ 1156 2606 1428 2606 \nQ 1700 2606 1854 2837 \nQ 2009 3069 2009 3481 \nQ 2009 3884 1853 4118 \nQ 1697 4353 1428 4353 \nz\nM 4250 4750 \nL 4750 4750 \nL 1831 -91 \nL 1331 -91 \nL 4250 4750 \nz\nM 1428 4750 \nQ 1922 4750 2215 4408 \nQ 2509 4066 2509 3481 \nQ 2509 2891 2217 2550 \nQ 1925 2209 1428 2209 \nQ 931 2209 642 2551 \nQ 353 2894 353 3481 \nQ 353 4063 643 4406 \nQ 934 4750 1428 4750 \nz\n\" transform=\"scale(0.015625)\"/>\n       <path id=\"DejaVuSans-29\" d=\"M 513 4856 \nL 1013 4856 \nQ 1481 4119 1714 3412 \nQ 1947 2706 1947 2009 \nQ 1947 1309 1714 600 \nQ 1481 -109 1013 -844 \nL 513 -844 \nQ 928 -128 1133 580 \nQ 1338 1288 1338 2009 \nQ 1338 2731 1133 3434 \nQ 928 4138 513 4856 \nz\n\" transform=\"scale(0.015625)\"/>\n      </defs>\n      <use xlink:href=\"#DejaVuSans-41\"/>\n      <use xlink:href=\"#DejaVuSans-63\" transform=\"translate(66.658203 0)\"/>\n      <use xlink:href=\"#DejaVuSans-63\" transform=\"translate(121.638672 0)\"/>\n      <use xlink:href=\"#DejaVuSans-75\" transform=\"translate(176.619141 0)\"/>\n      <use xlink:href=\"#DejaVuSans-72\" transform=\"translate(239.998047 0)\"/>\n      <use xlink:href=\"#DejaVuSans-61\" transform=\"translate(281.111328 0)\"/>\n      <use xlink:href=\"#DejaVuSans-63\" transform=\"translate(342.390625 0)\"/>\n      <use xlink:href=\"#DejaVuSans-79\" transform=\"translate(397.371094 0)\"/>\n      <use xlink:href=\"#DejaVuSans-20\" transform=\"translate(456.550781 0)\"/>\n      <use xlink:href=\"#DejaVuSans-28\" transform=\"translate(488.337891 0)\"/>\n      <use xlink:href=\"#DejaVuSans-25\" transform=\"translate(527.351562 0)\"/>\n      <use xlink:href=\"#DejaVuSans-29\" transform=\"translate(622.371094 0)\"/>\n     </g>\n    </g>\n   </g>\n   <g id=\"line2d_31\">\n    <path d=\"M 549.209349 194.365 \nL 549.948679 193.161875 \nL 550.688009 194.365 \nL 551.427339 193.161875 \nL 552.166669 196.77125 \nL 553.645329 191.95875 \nL 554.384658 194.365 \nL 555.123988 194.365 \nL 555.863318 193.161875 \nL 556.602648 182.33375 \nL 557.341978 176.318125 \nL 558.081308 131.8025 \nL 558.820638 101.724375 \nL 559.559968 87.286875 \nL 560.299298 87.286875 \nL 561.777957 110.14625 \nL 562.517287 130.599375 \nL 563.256617 137.818125 \nL 564.735277 153.45875 \nL 565.474607 153.45875 \nL 566.213937 154.661875 \nL 566.953267 149.849375 \nL 567.692597 152.255625 \nL 568.431927 157.068125 \nL 569.171256 158.27125 \nL 569.910586 157.068125 \nL 570.649916 159.474375 \nL 571.389246 160.6775 \nL 572.128576 160.6775 \nL 572.867906 157.068125 \nL 573.607236 158.27125 \nL 574.346566 158.27125 \nL 575.085896 152.255625 \nL 575.825226 157.068125 \nL 576.564555 158.27125 \nL 577.303885 155.865 \nL 578.043215 160.6775 \nL 578.782545 160.6775 \nL 579.521875 158.27125 \nL 581.000535 158.27125 \nL 581.739865 157.068125 \nL 582.479195 158.27125 \nL 583.218525 154.661875 \nL 583.957854 158.27125 \nL 584.697184 157.068125 \nL 585.436514 158.27125 \nL 586.175844 161.880625 \nL 586.915174 158.27125 \nL 588.393834 155.865 \nL 589.872494 158.27125 \nL 590.611824 161.880625 \nL 591.351153 157.068125 \nL 592.090483 155.865 \nL 592.829813 152.255625 \nL 593.569143 152.255625 \nL 594.308473 149.849375 \nL 595.047803 146.24 \nL 595.787133 147.443125 \nL 596.526463 147.443125 \nL 597.265793 141.4275 \nL 598.005123 139.02125 \nL 598.744452 131.8025 \nL 599.483782 126.99 \nL 600.223112 125.786875 \nL 600.962442 122.1775 \nL 601.701772 120.974375 \nL 602.441102 113.755625 \nL 603.919762 108.943125 \nL 605.398422 108.943125 \nL 606.137751 101.724375 \nL 606.877081 102.9275 \nL 607.616411 99.318125 \nL 608.355741 96.911875 \nL 609.095071 95.70875 \nL 609.834401 93.3025 \nL 610.573731 89.693125 \nL 611.313061 84.880625 \nL 612.052391 86.08375 \nL 612.791721 83.6775 \nL 613.53105 84.880625 \nL 614.27038 83.6775 \nL 615.00971 81.27125 \nL 615.74904 82.474375 \nL 616.48837 76.45875 \nL 617.96703 78.865 \nL 618.70636 75.255625 \nL 619.44569 72.849375 \nL 620.18502 75.255625 \nL 621.663679 75.255625 \nL 623.142339 72.849375 \nL 623.881669 70.443125 \nL 625.360329 68.036875 \nL 626.099659 65.630625 \nL 626.838989 71.64625 \nL 627.578319 71.64625 \nL 628.317648 70.443125 \nL 629.796308 65.630625 \nL 630.535638 65.630625 \nL 631.274968 68.036875 \nL 633.492958 68.036875 \nL 634.232288 64.4275 \nL 634.971618 66.83375 \nL 635.710947 68.036875 \nL 636.450277 68.036875 \nL 637.189607 65.630625 \nL 637.928937 66.83375 \nL 638.668267 66.83375 \nL 639.407597 65.630625 \nL 640.146927 66.83375 \nL 640.886257 64.4275 \nL 641.625587 64.4275 \nL 643.104246 66.83375 \nL 643.843576 65.630625 \nL 644.582906 66.83375 \nL 645.322236 66.83375 \nL 646.061566 65.630625 \nL 646.800896 62.02125 \nL 647.540226 63.224375 \nL 648.279556 63.224375 \nL 649.018886 65.630625 \nL 649.758216 64.4275 \nL 650.497545 68.036875 \nL 651.236875 64.4275 \nL 651.976205 64.4275 \nL 652.715535 65.630625 \nL 653.454865 64.4275 \nL 654.194195 65.630625 \nL 654.933525 62.02125 \nL 655.672855 65.630625 \nL 657.151514 63.224375 \nL 657.890844 65.630625 \nL 658.630174 64.4275 \nL 659.369504 64.4275 \nL 660.108834 62.02125 \nL 660.848164 68.036875 \nL 661.587494 62.02125 \nL 662.326824 64.4275 \nL 663.066154 63.224375 \nL 663.805484 65.630625 \nL 664.544813 63.224375 \nL 666.023473 65.630625 \nL 666.762803 64.4275 \nL 668.241463 64.4275 \nL 668.980793 65.630625 \nL 669.720123 62.02125 \nL 670.459453 62.02125 \nL 671.198783 66.83375 \nL 672.677442 62.02125 \nL 673.416772 64.4275 \nL 674.156102 64.4275 \nL 674.895432 65.630625 \nL 675.634762 63.224375 \nL 676.374092 66.83375 \nL 677.113422 62.02125 \nL 677.852752 64.4275 \nL 678.592082 63.224375 \nL 679.331411 63.224375 \nL 680.070741 64.4275 \nL 680.810071 63.224375 \nL 681.549401 65.630625 \nL 682.288731 64.4275 \nL 683.028061 65.630625 \nL 683.767391 64.4275 \nL 684.506721 64.4275 \nL 685.246051 63.224375 \nL 686.72471 63.224375 \nL 687.46404 65.630625 \nL 688.20337 65.630625 \nL 688.9427 64.4275 \nL 689.68203 60.818125 \nL 690.42136 62.02125 \nL 691.16069 62.02125 \nL 691.90002 64.4275 \nL 692.63935 60.818125 \nL 693.37868 64.4275 \nL 694.118009 62.02125 \nL 694.857339 64.4275 \nL 695.596669 58.411875 \nL 696.335999 60.818125 \nL 697.075329 62.02125 \nL 697.814659 64.4275 \nL 698.553989 58.411875 \nL 699.293319 60.818125 \nL 700.032649 57.20875 \nL 701.511308 59.615 \nL 703.729298 59.615 \nL 704.468628 56.005625 \nL 705.207958 60.818125 \nL 706.686618 53.599375 \nL 707.425948 60.818125 \nL 709.643937 57.20875 \nL 711.122597 59.615 \nL 712.601257 59.615 \nL 713.340587 57.20875 \nL 714.079917 60.818125 \nL 714.819247 57.20875 \nL 715.558577 56.005625 \nL 716.297906 59.615 \nL 717.037236 58.411875 \nL 717.776566 56.005625 \nL 718.515896 57.20875 \nL 719.255226 52.39625 \nL 719.994556 58.411875 \nL 721.473216 56.005625 \nL 722.212546 58.411875 \nL 722.951876 54.8025 \nL 723.691205 56.005625 \nL 724.430535 58.411875 \nL 725.169865 54.8025 \nL 726.648525 57.20875 \nL 727.387855 56.005625 \nL 728.127185 53.599375 \nL 728.866515 53.599375 \nL 729.605845 58.411875 \nL 731.084504 53.599375 \nL 731.823834 53.599375 \nL 732.563164 58.411875 \nL 733.302494 53.599375 \nL 734.041824 56.005625 \nL 734.781154 57.20875 \nL 735.520484 54.8025 \nL 736.259814 53.599375 \nL 736.999144 56.005625 \nL 737.738474 57.20875 \nL 738.477803 54.8025 \nL 739.956463 57.20875 \nL 740.695793 56.005625 \nL 741.435123 56.005625 \nL 742.174453 53.599375 \nL 742.913783 56.005625 \nL 743.653113 54.8025 \nL 744.392443 57.20875 \nL 745.131773 53.599375 \nL 745.871102 56.005625 \nL 746.610432 54.8025 \nL 747.349762 56.005625 \nL 748.089092 52.39625 \nL 748.828422 58.411875 \nL 749.567752 56.005625 \nL 750.307082 57.20875 \nL 751.046412 56.005625 \nL 751.785742 57.20875 \nL 753.264401 52.39625 \nL 754.003731 53.599375 \nL 754.743061 56.005625 \nL 755.482391 54.8025 \nL 756.961051 54.8025 \nL 757.700381 57.20875 \nL 758.439711 54.8025 \nL 759.179041 56.005625 \nL 759.918371 53.599375 \nL 760.6577 56.005625 \nL 761.39703 54.8025 \nL 762.13636 54.8025 \nL 762.87569 53.599375 \nL 763.61502 56.005625 \nL 764.35435 56.005625 \nL 766.57234 52.39625 \nL 767.31167 54.8025 \nL 768.050999 51.193125 \nL 768.790329 51.193125 \nL 769.529659 54.8025 \nL 770.268989 53.599375 \nL 771.008319 53.599375 \nL 771.747649 52.39625 \nL 772.486979 54.8025 \nL 773.965639 54.8025 \nL 774.704969 51.193125 \nL 775.444298 53.599375 \nL 776.183628 53.599375 \nL 776.922958 49.99 \nL 777.662288 51.193125 \nL 778.401618 53.599375 \nL 779.140948 53.599375 \nL 782.098268 48.786875 \nL 782.837597 51.193125 \nL 783.576927 49.99 \nL 784.316257 51.193125 \nL 785.055587 54.8025 \nL 785.794917 49.99 \nL 786.534247 46.380625 \nL 787.273577 45.1775 \nL 788.012907 49.99 \nL 788.752237 45.1775 \nL 789.491567 49.99 \nL 790.230896 49.99 \nL 790.970226 51.193125 \nL 791.709556 46.380625 \nL 792.448886 48.786875 \nL 793.188216 45.1775 \nL 793.927546 43.974375 \nL 794.666876 46.380625 \nL 795.406206 43.974375 \nL 796.145536 45.1775 \nL 796.884865 42.77125 \nL 797.624195 39.161875 \nL 798.363525 40.365 \nL 799.102855 39.161875 \nL 799.842185 40.365 \nL 800.581515 43.974375 \nL 801.320845 39.161875 \nL 802.060175 40.365 \nL 802.799505 40.365 \nL 803.538835 39.161875 \nL 804.278164 36.755625 \nL 805.017494 40.365 \nL 805.756824 36.755625 \nL 806.496154 39.161875 \nL 807.235484 36.755625 \nL 807.974814 37.95875 \nL 808.714144 35.5525 \nL 809.453474 34.349375 \nL 810.192804 39.161875 \nL 810.932134 35.5525 \nL 811.671463 35.5525 \nL 812.410793 36.755625 \nL 813.150123 36.755625 \nL 813.889453 34.349375 \nL 814.628783 35.5525 \nL 817.586103 35.5525 \nL 818.325433 36.755625 \nL 819.064762 36.755625 \nL 819.804092 34.349375 \nL 820.543422 36.755625 \nL 821.282752 34.349375 \nL 822.022082 36.755625 \nL 823.500742 34.349375 \nL 824.240072 36.755625 \nL 824.979402 35.5525 \nL 825.718732 33.14625 \nL 826.458061 35.5525 \nL 827.197391 33.14625 \nL 828.676051 35.5525 \nL 829.415381 31.943125 \nL 830.154711 34.349375 \nL 834.59069 34.349375 \nL 835.33002 35.5525 \nL 836.80868 35.5525 \nL 837.54801 34.349375 \nL 838.28734 35.5525 \nL 839.02667 31.943125 \nL 839.766 34.349375 \nL 841.244659 31.943125 \nL 841.983989 33.14625 \nL 842.723319 35.5525 \nL 844.201979 33.14625 \nL 845.680639 35.5525 \nL 846.419969 33.14625 \nL 847.159299 31.943125 \nL 848.637958 34.349375 \nL 850.116618 31.943125 \nL 852.334608 31.943125 \nL 853.073938 28.33375 \nL 853.813268 30.74 \nL 854.552598 28.33375 \nL 855.291928 31.943125 \nL 856.770587 29.536875 \nL 857.509917 27.130625 \nL 858.249247 29.536875 \nL 859.727907 29.536875 \nL 860.467237 30.74 \nL 861.945897 28.33375 \nL 862.685227 29.536875 \nL 863.424556 28.33375 \nL 864.163886 25.9275 \nL 864.903216 28.33375 \nL 866.381876 28.33375 \nL 867.121206 27.130625 \nL 867.860536 27.130625 \nL 868.599866 28.33375 \nL 873.035845 28.33375 \nL 873.775175 29.536875 \nL 874.514505 28.33375 \nL 876.732495 28.33375 \nL 877.471825 27.130625 \nL 878.211154 28.33375 \nL 878.950484 27.130625 \nL 879.689814 28.33375 \nL 881.907804 28.33375 \nL 882.647134 27.130625 \nL 883.386464 28.33375 \nL 884.865124 25.9275 \nL 885.604453 28.33375 \nL 887.083113 28.33375 \nL 888.561773 25.9275 \nL 889.301103 25.9275 \nL 890.040433 24.724375 \nL 890.779763 25.9275 \nL 892.258423 25.9275 \nL 892.997752 27.130625 \nL 894.476412 24.724375 \nL 895.215742 25.9275 \nL 895.955072 25.9275 \nL 896.694402 24.724375 \nL 897.433732 24.724375 \nL 898.173062 25.9275 \nL 901.130381 25.9275 \nL 901.869711 24.724375 \nL 902.609041 25.9275 \nL 904.087701 25.9275 \nL 904.827031 24.724375 \nL 905.566361 25.9275 \nL 906.305691 25.9275 \nL 907.045021 24.724375 \nL 907.78435 25.9275 \nL 912.95966 25.9275 \nL 913.69899 24.724375 \nL 914.43832 24.724375 \nL 915.177649 25.9275 \nL 916.656309 23.52125 \nL 917.395639 25.9275 \nL 918.134969 23.52125 \nL 918.134969 23.52125 \n\" clip-path=\"url(#pa7820b3140)\" style=\"fill: none; stroke: #1f77b4; stroke-width: 1.5; stroke-linecap: square\"/>\n   </g>\n   <g id=\"line2d_32\">\n    <path d=\"M 549.209349 141.543928 \nL 555.863318 141.543928 \nL 557.341978 121.672961 \nL 558.081308 121.672961 \nL 558.820638 101.801994 \nL 559.559968 101.801994 \nL 560.299298 111.737486 \nL 561.777957 171.350388 \nL 563.256617 191.221355 \nL 563.995947 191.221355 \nL 564.735277 201.156839 \nL 565.474607 201.156839 \nL 566.213937 211.092322 \nL 591.351153 211.092322 \nL 592.090483 201.156839 \nL 592.829813 201.156839 \nL 593.569143 191.221355 \nL 595.047803 191.221355 \nL 595.787133 181.285871 \nL 601.701772 181.285871 \nL 603.180432 161.414895 \nL 603.919762 141.543928 \nL 606.137751 141.543928 \nL 606.877081 131.608454 \nL 609.095071 131.608454 \nL 610.573731 111.737486 \nL 612.052391 111.737486 \nL 612.791721 101.801994 \nL 617.2277 101.801994 \nL 617.96703 91.866519 \nL 624.620999 91.866519 \nL 625.360329 81.931026 \nL 637.928937 81.931026 \nL 638.668267 91.866519 \nL 686.72471 91.866519 \nL 687.46404 81.931026 \nL 688.9427 81.931026 \nL 689.68203 91.866519 \nL 690.42136 91.866519 \nL 691.16069 81.931026 \nL 732.563164 81.931026 \nL 733.302494 71.995552 \nL 734.041824 81.931026 \nL 734.781154 71.995552 \nL 735.520484 71.995552 \nL 736.259814 81.931026 \nL 736.999144 71.995552 \nL 765.09368 71.995552 \nL 765.83301 81.931026 \nL 771.747649 81.931026 \nL 772.486979 71.995552 \nL 773.226309 81.931026 \nL 776.922958 81.931026 \nL 777.662288 71.995552 \nL 778.401618 81.931026 \nL 835.33002 81.931026 \nL 836.06935 71.995552 \nL 836.80868 71.995552 \nL 837.54801 81.931026 \nL 847.159299 81.931026 \nL 847.898629 71.995552 \nL 848.637958 81.931026 \nL 849.377288 81.931026 \nL 850.116618 71.995552 \nL 850.855948 81.931026 \nL 851.595278 71.995552 \nL 852.334608 71.995552 \nL 853.073938 81.931026 \nL 853.813268 71.995552 \nL 854.552598 81.931026 \nL 858.249247 81.931026 \nL 858.988577 71.995552 \nL 859.727907 81.931026 \nL 861.206567 81.931026 \nL 861.945897 71.995552 \nL 862.685227 71.995552 \nL 863.424556 81.931026 \nL 918.134969 81.931026 \nL 918.134969 81.931026 \n\" clip-path=\"url(#pa7820b3140)\" style=\"fill: none; stroke: #ff7f0e; stroke-width: 1.5; stroke-linecap: square\"/>\n   </g>\n   <g id=\"patch_8\">\n    <path d=\"M 530.763068 299.518125 \nL 530.763068 22.318125 \n\" style=\"fill: none; stroke: #000000; stroke-width: 0.8; stroke-linejoin: miter; stroke-linecap: square\"/>\n   </g>\n   <g id=\"patch_9\">\n    <path d=\"M 936.58125 299.518125 \nL 936.58125 22.318125 \n\" style=\"fill: none; stroke: #000000; stroke-width: 0.8; stroke-linejoin: miter; stroke-linecap: square\"/>\n   </g>\n   <g id=\"patch_10\">\n    <path d=\"M 530.763068 299.518125 \nL 936.58125 299.518125 \n\" style=\"fill: none; stroke: #000000; stroke-width: 0.8; stroke-linejoin: miter; stroke-linecap: square\"/>\n   </g>\n   <g id=\"patch_11\">\n    <path d=\"M 530.763068 22.318125 \nL 936.58125 22.318125 \n\" style=\"fill: none; stroke: #000000; stroke-width: 0.8; stroke-linejoin: miter; stroke-linecap: square\"/>\n   </g>\n   <g id=\"text_35\">\n    <!-- Final model test accuracy: 80.65% -->\n    <g transform=\"translate(630.474972 16.318125) scale(0.12 -0.12)\">\n     <defs>\n      <path id=\"DejaVuSans-46\" d=\"M 628 4666 \nL 3309 4666 \nL 3309 4134 \nL 1259 4134 \nL 1259 2759 \nL 3109 2759 \nL 3109 2228 \nL 1259 2228 \nL 1259 0 \nL 628 0 \nL 628 4666 \nz\n\" transform=\"scale(0.015625)\"/>\n      <path id=\"DejaVuSans-69\" d=\"M 603 3500 \nL 1178 3500 \nL 1178 0 \nL 603 0 \nL 603 3500 \nz\nM 603 4863 \nL 1178 4863 \nL 1178 4134 \nL 603 4134 \nL 603 4863 \nz\n\" transform=\"scale(0.015625)\"/>\n      <path id=\"DejaVuSans-6e\" d=\"M 3513 2113 \nL 3513 0 \nL 2938 0 \nL 2938 2094 \nQ 2938 2591 2744 2837 \nQ 2550 3084 2163 3084 \nQ 1697 3084 1428 2787 \nQ 1159 2491 1159 1978 \nL 1159 0 \nL 581 0 \nL 581 3500 \nL 1159 3500 \nL 1159 2956 \nQ 1366 3272 1645 3428 \nQ 1925 3584 2291 3584 \nQ 2894 3584 3203 3211 \nQ 3513 2838 3513 2113 \nz\n\" transform=\"scale(0.015625)\"/>\n      <path id=\"DejaVuSans-6d\" d=\"M 3328 2828 \nQ 3544 3216 3844 3400 \nQ 4144 3584 4550 3584 \nQ 5097 3584 5394 3201 \nQ 5691 2819 5691 2113 \nL 5691 0 \nL 5113 0 \nL 5113 2094 \nQ 5113 2597 4934 2840 \nQ 4756 3084 4391 3084 \nQ 3944 3084 3684 2787 \nQ 3425 2491 3425 1978 \nL 3425 0 \nL 2847 0 \nL 2847 2094 \nQ 2847 2600 2669 2842 \nQ 2491 3084 2119 3084 \nQ 1678 3084 1418 2786 \nQ 1159 2488 1159 1978 \nL 1159 0 \nL 581 0 \nL 581 3500 \nL 1159 3500 \nL 1159 2956 \nQ 1356 3278 1631 3431 \nQ 1906 3584 2284 3584 \nQ 2666 3584 2933 3390 \nQ 3200 3197 3328 2828 \nz\n\" transform=\"scale(0.015625)\"/>\n      <path id=\"DejaVuSans-74\" d=\"M 1172 4494 \nL 1172 3500 \nL 2356 3500 \nL 2356 3053 \nL 1172 3053 \nL 1172 1153 \nQ 1172 725 1289 603 \nQ 1406 481 1766 481 \nL 2356 481 \nL 2356 0 \nL 1766 0 \nQ 1100 0 847 248 \nQ 594 497 594 1153 \nL 594 3053 \nL 172 3053 \nL 172 3500 \nL 594 3500 \nL 594 4494 \nL 1172 4494 \nz\n\" transform=\"scale(0.015625)\"/>\n      <path id=\"DejaVuSans-3a\" d=\"M 750 794 \nL 1409 794 \nL 1409 0 \nL 750 0 \nL 750 794 \nz\nM 750 3309 \nL 1409 3309 \nL 1409 2516 \nL 750 2516 \nL 750 3309 \nz\n\" transform=\"scale(0.015625)\"/>\n     </defs>\n     <use xlink:href=\"#DejaVuSans-46\"/>\n     <use xlink:href=\"#DejaVuSans-69\" transform=\"translate(50.269531 0)\"/>\n     <use xlink:href=\"#DejaVuSans-6e\" transform=\"translate(78.052734 0)\"/>\n     <use xlink:href=\"#DejaVuSans-61\" transform=\"translate(141.431641 0)\"/>\n     <use xlink:href=\"#DejaVuSans-6c\" transform=\"translate(202.710938 0)\"/>\n     <use xlink:href=\"#DejaVuSans-20\" transform=\"translate(230.494141 0)\"/>\n     <use xlink:href=\"#DejaVuSans-6d\" transform=\"translate(262.28125 0)\"/>\n     <use xlink:href=\"#DejaVuSans-6f\" transform=\"translate(359.693359 0)\"/>\n     <use xlink:href=\"#DejaVuSans-64\" transform=\"translate(420.875 0)\"/>\n     <use xlink:href=\"#DejaVuSans-65\" transform=\"translate(484.351562 0)\"/>\n     <use xlink:href=\"#DejaVuSans-6c\" transform=\"translate(545.875 0)\"/>\n     <use xlink:href=\"#DejaVuSans-20\" transform=\"translate(573.658203 0)\"/>\n     <use xlink:href=\"#DejaVuSans-74\" transform=\"translate(605.445312 0)\"/>\n     <use xlink:href=\"#DejaVuSans-65\" transform=\"translate(644.654297 0)\"/>\n     <use xlink:href=\"#DejaVuSans-73\" transform=\"translate(706.177734 0)\"/>\n     <use xlink:href=\"#DejaVuSans-74\" transform=\"translate(758.277344 0)\"/>\n     <use xlink:href=\"#DejaVuSans-20\" transform=\"translate(797.486328 0)\"/>\n     <use xlink:href=\"#DejaVuSans-61\" transform=\"translate(829.273438 0)\"/>\n     <use xlink:href=\"#DejaVuSans-63\" transform=\"translate(890.552734 0)\"/>\n     <use xlink:href=\"#DejaVuSans-63\" transform=\"translate(945.533203 0)\"/>\n     <use xlink:href=\"#DejaVuSans-75\" transform=\"translate(1000.513672 0)\"/>\n     <use xlink:href=\"#DejaVuSans-72\" transform=\"translate(1063.892578 0)\"/>\n     <use xlink:href=\"#DejaVuSans-61\" transform=\"translate(1105.005859 0)\"/>\n     <use xlink:href=\"#DejaVuSans-63\" transform=\"translate(1166.285156 0)\"/>\n     <use xlink:href=\"#DejaVuSans-79\" transform=\"translate(1221.265625 0)\"/>\n     <use xlink:href=\"#DejaVuSans-3a\" transform=\"translate(1273.195312 0)\"/>\n     <use xlink:href=\"#DejaVuSans-20\" transform=\"translate(1306.886719 0)\"/>\n     <use xlink:href=\"#DejaVuSans-38\" transform=\"translate(1338.673828 0)\"/>\n     <use xlink:href=\"#DejaVuSans-30\" transform=\"translate(1402.296875 0)\"/>\n     <use xlink:href=\"#DejaVuSans-2e\" transform=\"translate(1465.919922 0)\"/>\n     <use xlink:href=\"#DejaVuSans-36\" transform=\"translate(1497.707031 0)\"/>\n     <use xlink:href=\"#DejaVuSans-35\" transform=\"translate(1561.330078 0)\"/>\n     <use xlink:href=\"#DejaVuSans-25\" transform=\"translate(1624.953125 0)\"/>\n    </g>\n   </g>\n   <g id=\"legend_1\">\n    <g id=\"patch_12\">\n     <path d=\"M 537.763068 59.674375 \nL 593.750568 59.674375 \nQ 595.750568 59.674375 595.750568 57.674375 \nL 595.750568 29.318125 \nQ 595.750568 27.318125 593.750568 27.318125 \nL 537.763068 27.318125 \nQ 535.763068 27.318125 535.763068 29.318125 \nL 535.763068 57.674375 \nQ 535.763068 59.674375 537.763068 59.674375 \nz\n\" style=\"fill: #ffffff; opacity: 0.8; stroke: #cccccc; stroke-linejoin: miter\"/>\n    </g>\n    <g id=\"line2d_33\">\n     <path d=\"M 539.763068 35.416562 \nL 549.763068 35.416562 \nL 559.763068 35.416562 \n\" style=\"fill: none; stroke: #1f77b4; stroke-width: 1.5; stroke-linecap: square\"/>\n    </g>\n    <g id=\"text_36\">\n     <!-- Train -->\n     <g transform=\"translate(567.763068 38.916562) scale(0.1 -0.1)\">\n      <defs>\n       <path id=\"DejaVuSans-54\" d=\"M -19 4666 \nL 3928 4666 \nL 3928 4134 \nL 2272 4134 \nL 2272 0 \nL 1638 0 \nL 1638 4134 \nL -19 4134 \nL -19 4666 \nz\n\" transform=\"scale(0.015625)\"/>\n      </defs>\n      <use xlink:href=\"#DejaVuSans-54\"/>\n      <use xlink:href=\"#DejaVuSans-72\" transform=\"translate(46.333984 0)\"/>\n      <use xlink:href=\"#DejaVuSans-61\" transform=\"translate(87.447266 0)\"/>\n      <use xlink:href=\"#DejaVuSans-69\" transform=\"translate(148.726562 0)\"/>\n      <use xlink:href=\"#DejaVuSans-6e\" transform=\"translate(176.509766 0)\"/>\n     </g>\n    </g>\n    <g id=\"line2d_34\">\n     <path d=\"M 539.763068 50.094688 \nL 549.763068 50.094688 \nL 559.763068 50.094688 \n\" style=\"fill: none; stroke: #ff7f0e; stroke-width: 1.5; stroke-linecap: square\"/>\n    </g>\n    <g id=\"text_37\">\n     <!-- Test -->\n     <g transform=\"translate(567.763068 53.594688) scale(0.1 -0.1)\">\n      <use xlink:href=\"#DejaVuSans-54\"/>\n      <use xlink:href=\"#DejaVuSans-65\" transform=\"translate(44.083984 0)\"/>\n      <use xlink:href=\"#DejaVuSans-73\" transform=\"translate(105.607422 0)\"/>\n      <use xlink:href=\"#DejaVuSans-74\" transform=\"translate(157.707031 0)\"/>\n     </g>\n    </g>\n   </g>\n  </g>\n </g>\n <defs>\n  <clipPath id=\"pa7be57ad72\">\n   <rect x=\"43.78125\" y=\"22.318125\" width=\"405.818182\" height=\"277.2\"/>\n  </clipPath>\n  <clipPath id=\"pa7820b3140\">\n   <rect x=\"530.763068\" y=\"22.318125\" width=\"405.818182\" height=\"277.2\"/>\n  </clipPath>\n </defs>\n</svg>\n"
          },
          "metadata": {}
        }
      ]
    }
  ]
}